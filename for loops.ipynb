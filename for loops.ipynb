{
 "cells": [
  {
   "cell_type": "markdown",
   "id": "ecfdb443-ad18-4699-bfc0-d0973e24158c",
   "metadata": {},
   "source": [
    "# python _for_ loops"
   ]
  },
  {
   "cell_type": "markdown",
   "id": "278640f3-2462-46c9-8b89-32ecb5a7c64d",
   "metadata": {},
   "source": [
    "- A _for_ loop is used for iterating over a sequence(that is either a list, tuple, dictionary, set or a string).\n",
    "- _for_ keyword in python is different from other object-oriented programming languages.\n",
    "- with for loop we can execute a set of statements, once for each item in a list, tuple, set etc\n"
   ]
  },
  {
   "cell_type": "code",
   "execution_count": 3,
   "id": "700ab0dd-505f-461e-8ee4-d288b2fc45f6",
   "metadata": {},
   "outputs": [
    {
     "name": "stdout",
     "output_type": "stream",
     "text": [
      "apple\n",
      "banana\n",
      "cherry\n"
     ]
    }
   ],
   "source": [
    "# example:\n",
    "\n",
    "fruits = ['apple', 'banana', 'cherry']\n",
    "for x in fruits:\n",
    "    print(x)"
   ]
  },
  {
   "cell_type": "markdown",
   "id": "9d2f9be1-b8f7-4c6e-987c-1b33270ec218",
   "metadata": {},
   "source": [
    "- the _for_ loop does not require an indexing variable to set beforehand"
   ]
  },
  {
   "cell_type": "markdown",
   "id": "0c96682c-63f1-4be7-a2d7-95437b650e26",
   "metadata": {},
   "source": [
    "## Looping through a string\n",
    "strings are also iterable objects as they contain a sequence of characters."
   ]
  },
  {
   "cell_type": "code",
   "execution_count": 6,
   "id": "6c948635-d6fc-41c3-840a-dd20a57e495b",
   "metadata": {},
   "outputs": [
    {
     "name": "stdout",
     "output_type": "stream",
     "text": [
      "b\n",
      "a\n",
      "n\n",
      "a\n",
      "n\n",
      "a\n"
     ]
    }
   ],
   "source": [
    "for x in \"banana\":\n",
    "    print(x)"
   ]
  },
  {
   "cell_type": "markdown",
   "id": "a2c55b97-504c-4e84-80a7-a77f832a0f37",
   "metadata": {},
   "source": [
    "## break statement\n",
    "with _break_ statement we can stop the loop before it has looped all the items:"
   ]
  },
  {
   "cell_type": "code",
   "execution_count": 7,
   "id": "fb2a87eb-a1b4-442d-96e5-f63858542405",
   "metadata": {},
   "outputs": [
    {
     "name": "stdout",
     "output_type": "stream",
     "text": [
      "apple\n",
      "banana\n"
     ]
    }
   ],
   "source": [
    "#Exit the loop when x is banana \n",
    "fruits = ['apple', 'banana', 'cherry']\n",
    "for x in fruits:\n",
    "    print(x)\n",
    "    if x == 'banana':\n",
    "        break\n",
    "    "
   ]
  },
  {
   "cell_type": "code",
   "execution_count": 33,
   "id": "39a9ff78-9ee4-4c78-9989-cccec9a96e7e",
   "metadata": {},
   "outputs": [
    {
     "name": "stdout",
     "output_type": "stream",
     "text": [
      "apple\n",
      "banana\n"
     ]
    }
   ],
   "source": [
    "#Exit the loop when x is \"cherry\", but this time the break comes before the print:\n",
    "fruits = ['apple', 'banana', 'cherry', 'muskmelon']\n",
    "for x in fruits:\n",
    "    if x == 'cherry':\n",
    "        break\n",
    "\n",
    "    print(x)\n",
    "    \n",
    "        \n",
    "    "
   ]
  },
  {
   "cell_type": "code",
   "execution_count": 12,
   "id": "207a4dda-1cc6-48f1-a145-eea1879729e2",
   "metadata": {},
   "outputs": [
    {
     "name": "stdout",
     "output_type": "stream",
     "text": [
      "apple\n",
      "banana\n"
     ]
    }
   ],
   "source": [
    "fruits = ['apple', 'banana', 'cherry', 'apple1', 'banana2', 'cherry2']\n",
    "for x in fruits:\n",
    "    if x == 'cherry':\n",
    "        break\n",
    "    print(x)"
   ]
  },
  {
   "cell_type": "markdown",
   "id": "2a1aa145-1240-4975-ab9f-4aaa55411084",
   "metadata": {},
   "source": [
    "## continue statement"
   ]
  },
  {
   "cell_type": "markdown",
   "id": "3a410dd8-49d2-4066-86d7-d23f47c8efc4",
   "metadata": {},
   "source": [
    "with _continue_ statement we can stop the current iteration of the loop and continue with the next one"
   ]
  },
  {
   "cell_type": "code",
   "execution_count": null,
   "id": "5b82e61c-ecae-40a1-85e8-a49392cfb663",
   "metadata": {},
   "outputs": [],
   "source": [
    "# do not print banana"
   ]
  },
  {
   "cell_type": "code",
   "execution_count": 15,
   "id": "13740d73-4f50-4a2f-a9f2-661ac2b33b4b",
   "metadata": {},
   "outputs": [
    {
     "name": "stdout",
     "output_type": "stream",
     "text": [
      "apple\n",
      "cherry\n"
     ]
    }
   ],
   "source": [
    "#Exit the loop when x is banana \n",
    "fruits = ['apple', 'banana', 'cherry']\n",
    "for x in fruits:\n",
    "    if x == 'banana':\n",
    "        continue\n",
    "    print(x)\n",
    "    "
   ]
  },
  {
   "cell_type": "markdown",
   "id": "cd59a12e-48e2-418e-ad45-14abe12425ea",
   "metadata": {},
   "source": [
    "## range() function\n",
    "- to loop through a set of code a specified number of times, we can use range() function\n",
    "- the range() function returns a sequence of numbers, starting from 0 by default, and increments by 1 (by default), and ends at a specified number."
   ]
  },
  {
   "cell_type": "code",
   "execution_count": 16,
   "id": "dab20afe-be07-4860-91de-79839ebb649b",
   "metadata": {},
   "outputs": [
    {
     "name": "stdout",
     "output_type": "stream",
     "text": [
      "0\n",
      "1\n",
      "2\n",
      "3\n",
      "4\n",
      "5\n"
     ]
    }
   ],
   "source": [
    "# range() function\n",
    "for x in range(6):\n",
    "    print(x)"
   ]
  },
  {
   "cell_type": "code",
   "execution_count": null,
   "id": "7bf16f0d-8eae-434a-9e0b-f425f5d8b94e",
   "metadata": {},
   "outputs": [],
   "source": [
    "# Note that range(6) is not the values of 0 to 6, but the values 0 to 5."
   ]
  },
  {
   "cell_type": "markdown",
   "id": "e1bff13f-4209-4f2c-8e80-d9931a38bc1b",
   "metadata": {},
   "source": [
    "The range() function defaults to 0 as a starting value, however it is possible to specify the starting value by adding a parameter: range(2, 6), which means values from 2 to 6 (but not including 6):"
   ]
  },
  {
   "cell_type": "code",
   "execution_count": 17,
   "id": "95f5dbb2-1933-43aa-9e69-52650d40b366",
   "metadata": {},
   "outputs": [
    {
     "name": "stdout",
     "output_type": "stream",
     "text": [
      "2\n",
      "3\n",
      "4\n",
      "5\n"
     ]
    }
   ],
   "source": [
    "# Using the start parameter:\n",
    "for x in range(2, 6):\n",
    "  print(x)"
   ]
  },
  {
   "cell_type": "markdown",
   "id": "74fa3f59-4ec4-4f6f-9e93-aa45cff3daf3",
   "metadata": {},
   "source": [
    "The range() function defaults to increment the sequence by 1, however it is possible to specify the increment value by adding a third parameter: range(2, 30, 3):"
   ]
  },
  {
   "cell_type": "code",
   "execution_count": 19,
   "id": "0bbc60be-90bd-424e-868e-8c871851d20c",
   "metadata": {},
   "outputs": [
    {
     "name": "stdout",
     "output_type": "stream",
     "text": [
      "2\n",
      "5\n",
      "8\n",
      "11\n",
      "14\n",
      "17\n",
      "20\n",
      "23\n",
      "26\n",
      "29\n"
     ]
    }
   ],
   "source": [
    "for x in range(2, 30, 3):\n",
    "  print(x)"
   ]
  },
  {
   "cell_type": "markdown",
   "id": "aa799025-7e23-4f7d-8470-5ccfbe954e54",
   "metadata": {},
   "source": [
    "## else in for loop\n",
    "the _else_ keyword in a _for_ loop specefies a block of code to be executed when loop is finished"
   ]
  },
  {
   "cell_type": "code",
   "execution_count": 34,
   "id": "f9b87963-1e31-49f3-ab87-c567a038566d",
   "metadata": {},
   "outputs": [
    {
     "name": "stdout",
     "output_type": "stream",
     "text": [
      "2\n",
      "3\n",
      "4\n",
      "5\n",
      "the loop is finished\n"
     ]
    }
   ],
   "source": [
    "# print a message at the end of the loop\n",
    "for x in range(2, 6):\n",
    "  print(x)\n",
    "else:\n",
    "    print(\"the loop is finished\")"
   ]
  },
  {
   "cell_type": "code",
   "execution_count": 35,
   "id": "0a6312c6-0a35-4ae4-906e-065d206c3bc9",
   "metadata": {},
   "outputs": [
    {
     "name": "stdout",
     "output_type": "stream",
     "text": [
      "0\n",
      "1\n",
      "2\n"
     ]
    }
   ],
   "source": [
    "#Break the loop when x is 3, and see what happens with the else block:\n",
    "for x in range(6):\n",
    "    if x==3:\n",
    "        break\n",
    "    print(x)\n",
    "else:\n",
    "    print(\"the loop is finished\")"
   ]
  },
  {
   "cell_type": "markdown",
   "id": "8fcc192a-acb7-4961-9e35-d890a82169fa",
   "metadata": {},
   "source": [
    "## Nested loops\n",
    "- A nested loop is a loop inside a loop.\n",
    "- the \"inner loop\" will be executed one time for each iteration of the \"outer loop\""
   ]
  },
  {
   "cell_type": "code",
   "execution_count": 28,
   "id": "701871c4-cea3-4450-81c8-61c8c024da4f",
   "metadata": {},
   "outputs": [
    {
     "name": "stdout",
     "output_type": "stream",
     "text": [
      "red apple\n",
      "red banana\n",
      "red cherry\n",
      "big apple\n",
      "big banana\n",
      "big cherry\n",
      "tasty apple\n",
      "tasty banana\n",
      "tasty cherry\n"
     ]
    }
   ],
   "source": [
    "# print adjective for every fruit\n",
    "adj = ['red','big','tasty']\n",
    "fruits = ['apple', 'banana', 'cherry']\n",
    "\n",
    "for x in adj:\n",
    "    for y in fruits:\n",
    "        print(x, y)"
   ]
  },
  {
   "cell_type": "markdown",
   "id": "cc083f99-2874-4a90-925e-b63608eb188b",
   "metadata": {},
   "source": [
    "## pass statement\n",
    "_for_ loops cannot be empty, but if it need to have no content, we can put _pass_ statement to aviod getting an error\n"
   ]
  },
  {
   "cell_type": "code",
   "execution_count": 29,
   "id": "1a640a3b-5373-4964-b6b9-3eed2e1c06c9",
   "metadata": {},
   "outputs": [],
   "source": [
    "for x in [0,1,2]:\n",
    "    pass"
   ]
  },
  {
   "cell_type": "code",
   "execution_count": null,
   "id": "0b7b36c7-4cfb-4acf-9d8a-07b0410e7b80",
   "metadata": {},
   "outputs": [],
   "source": []
  },
  {
   "cell_type": "code",
   "execution_count": null,
   "id": "3b023a17-5d49-401a-bd1b-4025d37117bd",
   "metadata": {},
   "outputs": [],
   "source": []
  },
  {
   "cell_type": "code",
   "execution_count": null,
   "id": "38c404c7-8d95-47e7-8e06-bf513caf314c",
   "metadata": {},
   "outputs": [],
   "source": []
  },
  {
   "cell_type": "code",
   "execution_count": null,
   "id": "e3115183-cfc6-4409-a819-c7c6d6e31336",
   "metadata": {},
   "outputs": [],
   "source": []
  },
  {
   "cell_type": "code",
   "execution_count": null,
   "id": "e36d79d0-6c5d-42b9-92d4-80fe424fc360",
   "metadata": {},
   "outputs": [],
   "source": []
  },
  {
   "cell_type": "code",
   "execution_count": null,
   "id": "b4802099-e603-4072-bf7f-1d1d895c20fe",
   "metadata": {},
   "outputs": [],
   "source": []
  }
 ],
 "metadata": {
  "kernelspec": {
   "display_name": "Python 3 (ipykernel)",
   "language": "python",
   "name": "python3"
  },
  "language_info": {
   "codemirror_mode": {
    "name": "ipython",
    "version": 3
   },
   "file_extension": ".py",
   "mimetype": "text/x-python",
   "name": "python",
   "nbconvert_exporter": "python",
   "pygments_lexer": "ipython3",
   "version": "3.11.4"
  }
 },
 "nbformat": 4,
 "nbformat_minor": 5
}
