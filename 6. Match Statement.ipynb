{
 "cells": [
  {
   "cell_type": "markdown",
   "id": "eeeb16ec-265d-487d-88a9-ad1d23b934a8",
   "metadata": {},
   "source": [
    "# Match Statement"
   ]
  },
  {
   "cell_type": "markdown",
   "id": "4858c30e-b17c-4a18-bf30-9eb7f96012c1",
   "metadata": {},
   "source": [
    "- match statement is used to sperform different functions based on different conditions\n",
    "- _Match_ statement select one of many codes to be executed"
   ]
  },
  {
   "cell_type": "code",
   "execution_count": 6,
   "id": "2e5b5db6-735c-4842-9e8d-a19a59123d57",
   "metadata": {},
   "outputs": [
    {
     "name": "stdout",
     "output_type": "stream",
     "text": [
      "OK\n"
     ]
    }
   ],
   "source": [
    "status = 200\n",
    "\n",
    "match status:                       # match expression\n",
    "    case 200:                       # case x\n",
    "        print(\"OK\")                 # code block\n",
    "    case 404:                       # case y\n",
    "        print(\"Not Found\")          # code block\n",
    "    case _:                         # default case\n",
    "        print(\"Other\")              # code block\n"
   ]
  },
  {
   "cell_type": "markdown",
   "id": "647105f2-31e3-4ce6-9b1f-9a92364d0732",
   "metadata": {},
   "source": [
    "## How it works:\n",
    "- the _match_ expression is evaluated once\n",
    "- if value of the expression is compared with the values of each case\n",
    "- if there is a match, the associated block of code is executed\n",
    "- *Default value* - '_' using the underscore character as the last case value makes the statement default and it is executed when there are no other matches\n"
   ]
  },
  {
   "cell_type": "code",
   "execution_count": 7,
   "id": "cdeaf85c-b86d-4500-8a39-7f0197c9d550",
   "metadata": {},
   "outputs": [
    {
     "name": "stdout",
     "output_type": "stream",
     "text": [
      "Other\n"
     ]
    }
   ],
   "source": [
    "status = 67 \n",
    "\n",
    "match status:                       # match expression\n",
    "    case 200:                       # case x\n",
    "        print(\"OK\")                 # code block\n",
    "    case 404:                       # case y\n",
    "        print(\"Not Found\")          # code block\n",
    "    case _:                         # default case\n",
    "        print(\"Other\")              # code block\n"
   ]
  },
  {
   "cell_type": "markdown",
   "id": "f03e63fe-d583-467d-884d-3d09534bd437",
   "metadata": {},
   "source": [
    "### Combine Values\n",
    "- Using the \"|\" pipe character as an or operator in the case evaluation to check for more than one value match in one case.\n"
   ]
  },
  {
   "cell_type": "code",
   "execution_count": 10,
   "id": "106c4083-b61e-4a45-8510-109c0f2ef190",
   "metadata": {},
   "outputs": [
    {
     "name": "stdout",
     "output_type": "stream",
     "text": [
      "Unknown fruit\n"
     ]
    }
   ],
   "source": [
    "fruit = 'watermelon'\n",
    "match fruit:\n",
    "        case \"apple\" | \"banana\" | \"mango\":\n",
    "            print(\"It's a common fruit\")\n",
    "        case \"dragonfruit\" | \"kiwi\":\n",
    "            print(\"It's an exotic fruit\")\n",
    "        case _:\n",
    "            print(\"Unknown fruit\")"
   ]
  },
  {
   "cell_type": "markdown",
   "id": "1764d15a-7b4c-444f-a6ab-b794313f6098",
   "metadata": {},
   "source": [
    "## _if_ statements as guard\n",
    "- _if_ statements can be added in case evaluation as an extra condition check"
   ]
  },
  {
   "cell_type": "code",
   "execution_count": 14,
   "id": "36632b85-7847-470d-8ddc-0de521e8e66b",
   "metadata": {},
   "outputs": [
    {
     "name": "stdin",
     "output_type": "stream",
     "text": [
      "Enter day (1-7):  2\n",
      "Enter month 4/5):  4\n"
     ]
    },
    {
     "name": "stdout",
     "output_type": "stream",
     "text": [
      "A weekday in April\n"
     ]
    }
   ],
   "source": [
    "day = int(input(\"Enter day (1-7): \"))\n",
    "month = int(input(\"Enter month (4/5): \"))\n",
    "\n",
    "match (day, month):\n",
    "    case (1 | 2 | 3 | 4 | 5, 4):\n",
    "        print(\"A weekday in April\")\n",
    "    case (1 | 2 | 3 | 4 | 5, 5):\n",
    "        print(\"A weekday in May\")\n",
    "    case _:\n",
    "        \n",
    "        print(\"No match\")"
   ]
  },
  {
   "cell_type": "code",
   "execution_count": null,
   "id": "9fe83348-e84a-4ce7-a7eb-d7139d2d91b6",
   "metadata": {},
   "outputs": [],
   "source": []
  }
 ],
 "metadata": {
  "kernelspec": {
   "display_name": "Python 3 (ipykernel)",
   "language": "python",
   "name": "python3"
  },
  "language_info": {
   "codemirror_mode": {
    "name": "ipython",
    "version": 3
   },
   "file_extension": ".py",
   "mimetype": "text/x-python",
   "name": "python",
   "nbconvert_exporter": "python",
   "pygments_lexer": "ipython3",
   "version": "3.11.4"
  }
 },
 "nbformat": 4,
 "nbformat_minor": 5
}
