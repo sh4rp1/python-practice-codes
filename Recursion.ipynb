{
 "cells": [
  {
   "cell_type": "markdown",
   "id": "29d25fbb-8de8-45ef-97d4-5791be9aa2a7",
   "metadata": {},
   "source": [
    "# Recursion\n",
    "Recursion is when a function calls itself to solve a smaller part of a problem."
   ]
  },
  {
   "cell_type": "markdown",
   "id": "73aef5a3-b606-43bf-8eb9-dd851acd9d8d",
   "metadata": {},
   "source": [
    "## Structure of a Recursive Function\n",
    "Every recursive function has two parts:\n",
    "\n",
    "*Base Case* – the stopping condition (prevents infinite recursion).\n",
    "\n",
    "*Recursive Case* – the part where the function calls itself with a smaller input."
   ]
  },
  {
   "cell_type": "code",
   "execution_count": 2,
   "id": "362fec92-bd85-422c-847e-237bc16a6539",
   "metadata": {},
   "outputs": [],
   "source": [
    "def factorial(n):\n",
    "    if n==0: # base case\n",
    "        return 1\n",
    "    else:  #recursive\n",
    "        return n * factorial(n-1)"
   ]
  },
  {
   "cell_type": "code",
   "execution_count": 3,
   "id": "62baf2b8-84ac-4f67-9480-3ed76583a0d0",
   "metadata": {},
   "outputs": [
    {
     "data": {
      "text/plain": [
       "24"
      ]
     },
     "execution_count": 3,
     "metadata": {},
     "output_type": "execute_result"
    }
   ],
   "source": [
    "factorial(4)"
   ]
  },
  {
   "cell_type": "code",
   "execution_count": 4,
   "id": "c03f2c9b-0f03-4e7a-9697-75b301a7982d",
   "metadata": {},
   "outputs": [],
   "source": [
    "def sum_up_to(n):\n",
    "    if n == 0:\n",
    "        return 0\n",
    "    else: \n",
    "        return n + sum_up_to(n-1)"
   ]
  },
  {
   "cell_type": "code",
   "execution_count": 5,
   "id": "28ab8cc4-a200-46f1-b035-c3566792a86d",
   "metadata": {},
   "outputs": [
    {
     "data": {
      "text/plain": [
       "6"
      ]
     },
     "execution_count": 5,
     "metadata": {},
     "output_type": "execute_result"
    }
   ],
   "source": [
    "sum_up_to(3)"
   ]
  },
  {
   "cell_type": "code",
   "execution_count": 14,
   "id": "c04137bb-6eb0-414a-9347-a7d8f2e559fd",
   "metadata": {},
   "outputs": [],
   "source": [
    "# Print numbers from n to 1 using recursion\n",
    "def print_desc(n):\n",
    "    if n <= 0:\n",
    "        return n\n",
    "    else:\n",
    "        return print_desc(n-1)"
   ]
  },
  {
   "cell_type": "code",
   "execution_count": 15,
   "id": "9c901bba-ed06-4331-853c-a193b602a6ae",
   "metadata": {},
   "outputs": [
    {
     "data": {
      "text/plain": [
       "0"
      ]
     },
     "execution_count": 15,
     "metadata": {},
     "output_type": "execute_result"
    }
   ],
   "source": [
    "print_desc(4)"
   ]
  },
  {
   "cell_type": "code",
   "execution_count": null,
   "id": "6453cae9-d6c2-445a-9a2d-a8edb1cfbf3d",
   "metadata": {},
   "outputs": [],
   "source": []
  }
 ],
 "metadata": {
  "kernelspec": {
   "display_name": "Python 3 (ipykernel)",
   "language": "python",
   "name": "python3"
  },
  "language_info": {
   "codemirror_mode": {
    "name": "ipython",
    "version": 3
   },
   "file_extension": ".py",
   "mimetype": "text/x-python",
   "name": "python",
   "nbconvert_exporter": "python",
   "pygments_lexer": "ipython3",
   "version": "3.11.4"
  }
 },
 "nbformat": 4,
 "nbformat_minor": 5
}
