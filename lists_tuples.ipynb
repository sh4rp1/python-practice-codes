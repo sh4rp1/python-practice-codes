{
 "cells": [
  {
   "cell_type": "markdown",
   "id": "d8b72477-6a45-4f9f-88e0-133dacb4851e",
   "metadata": {},
   "source": [
    "# Python List"
   ]
  },
  {
   "cell_type": "markdown",
   "id": "f1621630-07e3-44a7-b063-9b7170878219",
   "metadata": {},
   "source": [
    "## List\n",
    "- Lists are used to store multiple  items in a single variable\n",
    "- Lists are created using square brackets\n"
   ]
  },
  {
   "cell_type": "code",
   "execution_count": 4,
   "id": "aacd6175-fd1d-4e6b-b4cc-ca05c151d327",
   "metadata": {},
   "outputs": [
    {
     "name": "stdout",
     "output_type": "stream",
     "text": [
      "['apple', 'banana', 'mango']\n"
     ]
    }
   ],
   "source": [
    "# creating a list\n",
    "thislist = [\"apple\", 'banana', 'mango']\n",
    "print(thislist)"
   ]
  },
  {
   "cell_type": "markdown",
   "id": "6959f4c8-a2fd-4873-915b-4cd987f0a31b",
   "metadata": {},
   "source": [
    "## List Items\n",
    "- List Items are *ordered* , *changeable* & allow *duplicate* values.\n",
    "- List Items are indexed and the index starts from [0]\n",
    "\n",
    "_Note_ - There are some _list methods_ that can change ethe order, but in general, the order of items are not changable"
   ]
  },
  {
   "cell_type": "markdown",
   "id": "ef576da5-42e7-4616-8a4e-2be2642b31bf",
   "metadata": {},
   "source": [
    "## Changable\n",
    "The list is changable, meaning that we can change, add and remove items in a list after it has been created"
   ]
  },
  {
   "cell_type": "code",
   "execution_count": 7,
   "id": "c931ab0b-36a7-4e49-8ae7-c385e5a3ea88",
   "metadata": {},
   "outputs": [
    {
     "name": "stdout",
     "output_type": "stream",
     "text": [
      "['apple', 'banana', 'mango']\n"
     ]
    }
   ],
   "source": [
    "# Changing an item in the list\n",
    "my_list = [\"apple\", 'banana', 'mango']\n",
    "print(my_list)"
   ]
  },
  {
   "cell_type": "code",
   "execution_count": 9,
   "id": "e481fdb7-c04f-46ae-89d2-b9bc345115f1",
   "metadata": {},
   "outputs": [
    {
     "name": "stdout",
     "output_type": "stream",
     "text": [
      "['apple', 'blueberry', 'mango']\n"
     ]
    }
   ],
   "source": [
    "my_list[1] = \"blueberry\"\n",
    "print(my_list)"
   ]
  },
  {
   "cell_type": "code",
   "execution_count": 10,
   "id": "8673eee7-f78c-4331-9123-d2ba66522bf5",
   "metadata": {},
   "outputs": [
    {
     "name": "stdout",
     "output_type": "stream",
     "text": [
      "['apple', 'banana', 'mango']\n"
     ]
    }
   ],
   "source": [
    "# adding an _new_ item to the list\n",
    "my_list = [\"apple\", 'banana', 'mango']\n",
    "print(my_list)"
   ]
  },
  {
   "cell_type": "code",
   "execution_count": 11,
   "id": "94fd6861-d54a-4d03-b577-9af4f023dd16",
   "metadata": {},
   "outputs": [
    {
     "name": "stdout",
     "output_type": "stream",
     "text": [
      "['apple', 'banana', 'mango', 'orange']\n"
     ]
    }
   ],
   "source": [
    "my_list.append('orange')\n",
    "print(my_list)"
   ]
  },
  {
   "cell_type": "code",
   "execution_count": 16,
   "id": "4eb9d2b5-bf8e-46cd-b66e-60f418a5009b",
   "metadata": {},
   "outputs": [
    {
     "name": "stdout",
     "output_type": "stream",
     "text": [
      "['apple', 'banana', 'mango']\n"
     ]
    }
   ],
   "source": [
    "# removing an  item from the list\n",
    "my_list = [\"apple\", 'banana', 'mango']\n",
    "print(my_list)"
   ]
  },
  {
   "cell_type": "code",
   "execution_count": 17,
   "id": "affa8b09-33bc-483a-a9ee-21baecf67270",
   "metadata": {},
   "outputs": [
    {
     "name": "stdout",
     "output_type": "stream",
     "text": [
      "['apple', 'banana']\n"
     ]
    }
   ],
   "source": [
    "my_list.remove('mango')\n",
    "print(my_list)"
   ]
  },
  {
   "cell_type": "markdown",
   "id": "2bb292ce-3df3-4814-abbc-9884ec4e9cbf",
   "metadata": {},
   "source": [
    "## Allows duplicate\n",
    "Since the lists are indexed, lists can have items with the same value"
   ]
  },
  {
   "cell_type": "code",
   "execution_count": 18,
   "id": "9659c2a4-af07-41dc-bbe9-4f8ba0cb982a",
   "metadata": {},
   "outputs": [
    {
     "name": "stdout",
     "output_type": "stream",
     "text": [
      "['apple', 'banana', 'mango', 'apple']\n"
     ]
    }
   ],
   "source": [
    "# adding an duplicate items to the list\n",
    "my_list = [\"apple\", 'banana', 'mango', 'apple']\n",
    "print(my_list)"
   ]
  },
  {
   "cell_type": "markdown",
   "id": "2bd51108-36d9-4e10-b6d5-c2886011da04",
   "metadata": {},
   "source": [
    "## List Lenght\n",
    "\n",
    "**len()** function is used to determine the number of items in a list"
   ]
  },
  {
   "cell_type": "code",
   "execution_count": 19,
   "id": "9a636204-0d81-456f-a64c-d855bede4e36",
   "metadata": {},
   "outputs": [
    {
     "name": "stdout",
     "output_type": "stream",
     "text": [
      "4\n"
     ]
    }
   ],
   "source": [
    "this_list = ['apple', 'mango', 'banana', 'papaya']\n",
    "print(len(this_list))"
   ]
  },
  {
   "cell_type": "markdown",
   "id": "c5addd6d-6dfc-4d14-8062-e7ed7ae1f7fa",
   "metadata": {},
   "source": [
    "## Data types of the list items\n",
    "List items can be of any data type and a single list can have multiple data type"
   ]
  },
  {
   "cell_type": "code",
   "execution_count": 21,
   "id": "2a8525b2-955f-4ee9-b657-66f5209760c0",
   "metadata": {},
   "outputs": [],
   "source": [
    "list1 = ['apple', 'banana', 'cherry']\n",
    "list2 = [1,2,3]\n",
    "list3 = [True, False, True]\n",
    "list4 = ['apple', 2, True]"
   ]
  },
  {
   "cell_type": "code",
   "execution_count": 23,
   "id": "dc992d53-35ed-4a6b-b790-21de16525445",
   "metadata": {},
   "outputs": [
    {
     "name": "stdout",
     "output_type": "stream",
     "text": [
      "['apple', 'banana', 'cherry'] [1, 2, 3] [True, False, True] ['apple', 2, True]\n"
     ]
    }
   ],
   "source": [
    "print(list1, list2, list3, list4)"
   ]
  },
  {
   "cell_type": "markdown",
   "id": "6a1c6eaa-6fc2-46bf-b01b-5fc5d37545e4",
   "metadata": {},
   "source": [
    "## The list() Constructor\n",
    "it is possible to use the list() constructor when creating a new list"
   ]
  },
  {
   "cell_type": "code",
   "execution_count": 25,
   "id": "54840bab-d31e-482a-bafa-584c23d5e5dc",
   "metadata": {},
   "outputs": [],
   "source": [
    "thislist = list(('apple','banana','orange','cherry'))"
   ]
  },
  {
   "cell_type": "code",
   "execution_count": 27,
   "id": "6c646448-26e0-4c53-b7c1-0e28db4da8fe",
   "metadata": {},
   "outputs": [
    {
     "name": "stdout",
     "output_type": "stream",
     "text": [
      "['apple', 'banana', 'orange', 'cherry']\n"
     ]
    }
   ],
   "source": [
    "print(thislist)"
   ]
  },
  {
   "cell_type": "code",
   "execution_count": null,
   "id": "936659d8-c11c-4e29-b1a6-217d1374abca",
   "metadata": {},
   "outputs": [],
   "source": []
  }
 ],
 "metadata": {
  "kernelspec": {
   "display_name": "Python 3 (ipykernel)",
   "language": "python",
   "name": "python3"
  },
  "language_info": {
   "codemirror_mode": {
    "name": "ipython",
    "version": 3
   },
   "file_extension": ".py",
   "mimetype": "text/x-python",
   "name": "python",
   "nbconvert_exporter": "python",
   "pygments_lexer": "ipython3",
   "version": "3.11.4"
  }
 },
 "nbformat": 4,
 "nbformat_minor": 5
}
