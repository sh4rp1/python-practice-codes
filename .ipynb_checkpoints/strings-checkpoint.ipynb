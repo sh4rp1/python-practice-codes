{
 "cells": [
  {
   "cell_type": "markdown",
   "id": "f7675b1d-a843-4136-88df-8e318b7aac8e",
   "metadata": {},
   "source": [
    "# Strings"
   ]
  },
  {
   "cell_type": "markdown",
   "id": "42dd8074-0c44-4f01-8887-90881320fd5c",
   "metadata": {},
   "source": [
    "String in python are surrounded by either single quotation marks or double quotation marks\n",
    "- _\"hello\"_ is same as _'hello'_\n",
    "- String literal can be displayed with the **print()** function.\n"
   ]
  },
  {
   "cell_type": "code",
   "execution_count": 3,
   "id": "1a2ca183-a230-4d81-875b-bfb1ae60374b",
   "metadata": {},
   "outputs": [
    {
     "name": "stdout",
     "output_type": "stream",
     "text": [
      "Hello\n",
      "Hello\n"
     ]
    }
   ],
   "source": [
    "### Example\n",
    "print(\"Hello\")\n",
    "print('Hello')"
   ]
  },
  {
   "cell_type": "markdown",
   "id": "f060bae8-404c-4dd1-a7af-084e85c2c215",
   "metadata": {},
   "source": [
    "### Quotes inside Quotes\n",
    "\n",
    "Quotes can be used inside the string as long as they don't match the quotes the surrounding the string."
   ]
  },
  {
   "cell_type": "code",
   "execution_count": 6,
   "id": "0942a270-73ae-4984-8f82-134222bd41d5",
   "metadata": {},
   "outputs": [
    {
     "name": "stdout",
     "output_type": "stream",
     "text": [
      "It's alright\n",
      "He is called 'Johnny'\n",
      "He is called \"Johnny\"\n"
     ]
    }
   ],
   "source": [
    "print(\"It's alright\")\n",
    "print(\"He is called 'Johnny'\")\n",
    "print('He is called \"Johnny\"')"
   ]
  },
  {
   "cell_type": "markdown",
   "id": "d52d1b70-1274-43cc-9589-a3a115da03f1",
   "metadata": {},
   "source": [
    "## Assingning string to a Variable\n",
    "Assingning a string to a variable is done with the variable name followed by an equalk sign & the string"
   ]
  },
  {
   "cell_type": "code",
   "execution_count": 7,
   "id": "893f39ad-79e2-4bdb-94cd-9607e3b49a7b",
   "metadata": {},
   "outputs": [],
   "source": [
    "a = 'Hello'"
   ]
  },
  {
   "cell_type": "code",
   "execution_count": 8,
   "id": "e6fca801-046e-4796-bf81-29a5c46288cb",
   "metadata": {},
   "outputs": [
    {
     "name": "stdout",
     "output_type": "stream",
     "text": [
      "Hello\n"
     ]
    }
   ],
   "source": [
    "print(a)"
   ]
  },
  {
   "cell_type": "markdown",
   "id": "f1aea5d6-6a25-492d-8325-12827dec0b29",
   "metadata": {},
   "source": [
    "## Mutliline Strings\n",
    "Multiline string can be assinged to a variable by using three quotes(double or single)"
   ]
  },
  {
   "cell_type": "code",
   "execution_count": 9,
   "id": "1ca33331-8092-4db6-8527-9af55d58b237",
   "metadata": {},
   "outputs": [],
   "source": [
    "a = '''Jamshedpur: After days of scorching heat and relentless humidity, people across Jharkhand can finally breathe a sigh of relief. \n",
    "The India Meteorological Department (IMD) has forecast a significant shift in weather patterns, predicting rain accompanied by strong winds, thunderstorms, and lightning across the state for the next six days, starting April 26 through May 1.\n",
    "According to the IMD, a yellow alert has been issued for several districts, especially in the northeastern (Deoghar, Dhanbad, Dumka) and southern regions (East Singhbhum, West Singhbhum, etc.) of Jharkhand. \n",
    "These areas are likely to witness moderate to heavy rainfall along with thunderstorms, providing much-needed respite from the oppressive weather.'''"
   ]
  },
  {
   "cell_type": "code",
   "execution_count": 10,
   "id": "879c7fcb-9854-417b-b2a2-1f39aa9c395f",
   "metadata": {},
   "outputs": [
    {
     "name": "stdout",
     "output_type": "stream",
     "text": [
      "Jamshedpur: After days of scorching heat and relentless humidity, people across Jharkhand can finally breathe a sigh of relief. \n",
      "The India Meteorological Department (IMD) has forecast a significant shift in weather patterns, predicting rain accompanied by strong winds, thunderstorms, and lightning across the state for the next six days, starting April 26 through May 1.\n",
      "According to the IMD, a yellow alert has been issued for several districts, especially in the northeastern (Deoghar, Dhanbad, Dumka) and southern regions (East Singhbhum, West Singhbhum, etc.) of Jharkhand. \n",
      "These areas are likely to witness moderate to heavy rainfall along with thunderstorms, providing much-needed respite from the oppressive weather.\n"
     ]
    }
   ],
   "source": [
    "print(a)"
   ]
  },
  {
   "cell_type": "markdown",
   "id": "1ac49bf4-771a-47fd-811c-6cb308e156eb",
   "metadata": {},
   "source": [
    "# Strings are Arrays\n",
    "- Strings in Python are Arrays of bytes representing unicode characters.\n",
    "- python does not have a character data type. A single character is simply a string with length 1.\n",
    "- String bracket can be used to access elements of the string"
   ]
  },
  {
   "cell_type": "code",
   "execution_count": 13,
   "id": "f77e529f-1572-4818-a0c4-9b49b42b9c9d",
   "metadata": {},
   "outputs": [
    {
     "name": "stdout",
     "output_type": "stream",
     "text": [
      "H\n"
     ]
    }
   ],
   "source": [
    "# Get the element at position 1\n",
    "# note - the first character has position 0\n",
    "a = 'Hello, World!'\n",
    "print(a[0])"
   ]
  },
  {
   "cell_type": "markdown",
   "id": "d0eebb05-741e-4c33-9d35-48bb31537d4b",
   "metadata": {},
   "source": [
    "## Looping through a string\n",
    "Since strings are arrays, we can loop through the characters in a string with a _for_ loop."
   ]
  },
  {
   "cell_type": "code",
   "execution_count": 18,
   "id": "40f9f90d-648b-4ac5-8020-2e23cd05d722",
   "metadata": {},
   "outputs": [
    {
     "name": "stdout",
     "output_type": "stream",
     "text": [
      "b\n",
      "a\n",
      "n\n",
      "a\n",
      "n\n",
      "a\n"
     ]
    }
   ],
   "source": [
    "#Loop through the letters in the word \"banana\"\n",
    "\n",
    "for x in \"banana\":\n",
    "    print(x)"
   ]
  },
  {
   "cell_type": "markdown",
   "id": "10406dae-3802-4cb0-923d-9ccb436bd2db",
   "metadata": {},
   "source": [
    "## String Length\n",
    "To get the length of string we use _len()_ function "
   ]
  },
  {
   "cell_type": "code",
   "execution_count": 17,
   "id": "29bdd30b-8021-4b62-95a6-e4cd2931597d",
   "metadata": {},
   "outputs": [
    {
     "name": "stdout",
     "output_type": "stream",
     "text": [
      "13\n"
     ]
    }
   ],
   "source": [
    "a = \"Hello! World!\"\n",
    "print(len(a))"
   ]
  },
  {
   "cell_type": "markdown",
   "id": "b649cbf8-1908-49e8-8336-15019a11c7d9",
   "metadata": {},
   "source": [
    "## Check String\n",
    "To check if certain phrase or characters are present in a string, we can use the keyword _in_"
   ]
  },
  {
   "cell_type": "code",
   "execution_count": 21,
   "id": "b450fa47-b0b1-4c26-90b9-a62da0c0ad12",
   "metadata": {},
   "outputs": [
    {
     "name": "stdout",
     "output_type": "stream",
     "text": [
      "True\n"
     ]
    }
   ],
   "source": [
    "# chceck if 'free' is present in the following text:\n",
    "\n",
    "txt = \"The best things in life are free!\"\n",
    "print(\"free\" in txt) "
   ]
  },
  {
   "cell_type": "code",
   "execution_count": 24,
   "id": "c0ac4938-8f06-4407-b2e4-baeee1f0ca08",
   "metadata": {},
   "outputs": [
    {
     "name": "stdout",
     "output_type": "stream",
     "text": [
      "Yes! 'free' is present\n"
     ]
    }
   ],
   "source": [
    "# Using it as an \"if\" statement\n",
    "#print only if 'free' is present\n",
    "txt = \"The best things in life are free!\"\n",
    "if \"free\" in txt:\n",
    "    print(\"Yes! 'free' is present\")"
   ]
  },
  {
   "cell_type": "markdown",
   "id": "ddc5256d-8166-4118-aaa4-e8af75c19272",
   "metadata": {},
   "source": [
    "## Check if NOT"
   ]
  },
  {
   "cell_type": "code",
   "execution_count": 26,
   "id": "8bc3d95d-213d-4d30-bfaa-a78e57ed47b1",
   "metadata": {},
   "outputs": [
    {
     "name": "stdout",
     "output_type": "stream",
     "text": [
      "True\n"
     ]
    }
   ],
   "source": [
    "#check if \"expensive\" is NOT present in the following text\n",
    "txt = \"The best things in life are free!\"\n",
    "print(\"expensive\" not in txt)"
   ]
  },
  {
   "cell_type": "code",
   "execution_count": 28,
   "id": "4575ea60-fe4c-4a95-96cd-25e84d03baca",
   "metadata": {},
   "outputs": [
    {
     "name": "stdout",
     "output_type": "stream",
     "text": [
      "NO, 'expensive' is NOT present.\n"
     ]
    }
   ],
   "source": [
    "if \"expensive\" not in txt:\n",
    "    print(\"NO, 'expensive' is NOT present.\")"
   ]
  },
  {
   "cell_type": "markdown",
   "id": "c482a0fd-1e7d-4edc-a523-92b7ea4df55e",
   "metadata": {},
   "source": [
    "# Slicing\n",
    "You can return a range of characters by using the slice syntax.\n",
    "\n",
    "Specify the start index and the end index, separated by a colon, to return a part of the string.\n",
    "\n"
   ]
  },
  {
   "cell_type": "code",
   "execution_count": 30,
   "id": "a7cf2ba4-7762-427e-ad14-3f31b404ce90",
   "metadata": {},
   "outputs": [
    {
     "name": "stdout",
     "output_type": "stream",
     "text": [
      "llo\n"
     ]
    }
   ],
   "source": [
    "# Get the characters from position 2 to position 5 (not included):\n",
    "b = \"Hello, World!\"\n",
    "print(b[2:5])"
   ]
  },
  {
   "cell_type": "markdown",
   "id": "3743d23e-cc9f-4807-8cc3-f56e6fd644ca",
   "metadata": {},
   "source": [
    "## Slicing from the Start\n",
    "By leaving out the start index, the range will _start_ at the first character:"
   ]
  },
  {
   "cell_type": "code",
   "execution_count": 33,
   "id": "3d1160fd-5b0f-42c2-a67e-9232a09221a6",
   "metadata": {},
   "outputs": [
    {
     "name": "stdout",
     "output_type": "stream",
     "text": [
      "Hello\n"
     ]
    }
   ],
   "source": [
    "# get characters from start to position 5(not included)\n",
    "b = \"Hello, World!\"\n",
    "print(b[:5])"
   ]
  },
  {
   "cell_type": "markdown",
   "id": "710d5c66-cc85-4314-b7df-66c0b83e156b",
   "metadata": {},
   "source": [
    "## Slicing to the end\n",
    "By leaving out the _end_ index, the range will go to the end."
   ]
  },
  {
   "cell_type": "code",
   "execution_count": 37,
   "id": "f9849079-3e44-4788-9896-03c3655adefb",
   "metadata": {},
   "outputs": [
    {
     "name": "stdout",
     "output_type": "stream",
     "text": [
      "llo, World!\n"
     ]
    }
   ],
   "source": [
    "# get the character from the position 2 and all the way to the end.\n",
    "b = \"Hello, World!\"\n",
    "print(b[2:])"
   ]
  },
  {
   "cell_type": "markdown",
   "id": "97a6fa30-ca8c-42ee-bb22-4c93c8ce0fae",
   "metadata": {},
   "source": [
    "## Negative Indexing\n",
    "Use _'negative'_ indexes to start the slice from the end  of the string:\n"
   ]
  },
  {
   "cell_type": "code",
   "execution_count": 43,
   "id": "3fae35ce-a77f-4159-a327-b172b208ab2f",
   "metadata": {},
   "outputs": [
    {
     "name": "stdout",
     "output_type": "stream",
     "text": [
      "orl\n"
     ]
    }
   ],
   "source": [
    "# Get the chracters:\n",
    "# from:'o' in the \"World!\" (Position -5)\n",
    "# to, but not included: \"d\" in \"World!\" (position -2).\n",
    "\n",
    "b = \"Hello, World!\"\n",
    "print(b[-5:-2])"
   ]
  },
  {
   "cell_type": "markdown",
   "id": "7e958194-c0c6-42fd-936a-1bf018cf114b",
   "metadata": {},
   "source": [
    "### Modify Strings\n",
    "Python has a set of built in methods that you can use on strings:"
   ]
  },
  {
   "cell_type": "markdown",
   "id": "39ebcc5c-26e1-4a56-98b7-692fa7ed080e",
   "metadata": {},
   "source": [
    "### Upper Case\n",
    "the upper() method returns the string in the upper case"
   ]
  },
  {
   "cell_type": "code",
   "execution_count": 46,
   "id": "737170a7-c3f2-47a5-8226-95e09ab2d98c",
   "metadata": {},
   "outputs": [
    {
     "name": "stdout",
     "output_type": "stream",
     "text": [
      "HELLO, WORLD!\n"
     ]
    }
   ],
   "source": [
    "a = \"Hello, World!\"\n",
    "print(a.upper())"
   ]
  },
  {
   "cell_type": "markdown",
   "id": "d53b01c3-77fc-4008-b558-5c5d07613e41",
   "metadata": {},
   "source": [
    "### Lower Case\n",
    "the lower() method returns the string in the lower case"
   ]
  },
  {
   "cell_type": "code",
   "execution_count": 47,
   "id": "714b02e8-848d-4de4-bebd-7f071503a218",
   "metadata": {},
   "outputs": [
    {
     "name": "stdout",
     "output_type": "stream",
     "text": [
      "hello, world!\n"
     ]
    }
   ],
   "source": [
    "print(a.lower())"
   ]
  },
  {
   "cell_type": "markdown",
   "id": "0b00d84f-18c4-4685-a673-4fe225fdf807",
   "metadata": {},
   "source": [
    "### Remove Whitespaces\n",
    "The strip() method removes any whitespaces from the beginning or the end"
   ]
  },
  {
   "cell_type": "code",
   "execution_count": 49,
   "id": "504bc062-9360-42b8-9cc1-8459a94ba868",
   "metadata": {},
   "outputs": [
    {
     "name": "stdout",
     "output_type": "stream",
     "text": [
      "Hello, World!\n"
     ]
    }
   ],
   "source": [
    "b = \" Hello, World! \"\n",
    "print(b.strip())"
   ]
  },
  {
   "cell_type": "markdown",
   "id": "743f9a8d-f6e5-4f54-b736-8cf5a50efdd6",
   "metadata": {},
   "source": [
    "### Replace String\n",
    "The replace() method replaces a string with another string"
   ]
  },
  {
   "cell_type": "code",
   "execution_count": 50,
   "id": "9e221edf-54c3-408d-a6d6-f174d3970e92",
   "metadata": {},
   "outputs": [
    {
     "name": "stdout",
     "output_type": "stream",
     "text": [
      "Yello, World!\n"
     ]
    }
   ],
   "source": [
    "print(a.replace(\"H\",\"Y\"))"
   ]
  },
  {
   "cell_type": "markdown",
   "id": "5e4b200f-c804-46a7-af10-df990be969b4",
   "metadata": {},
   "source": [
    "### Split String\n",
    "the split() method splits the string into substring if it finds instances of the separator\n"
   ]
  },
  {
   "cell_type": "code",
   "execution_count": 51,
   "id": "d4b65e61-d678-43df-b2d5-9c1566c5f455",
   "metadata": {},
   "outputs": [
    {
     "name": "stdout",
     "output_type": "stream",
     "text": [
      "['Hello', 'World!']\n"
     ]
    }
   ],
   "source": [
    "print(a.split(', '))"
   ]
  },
  {
   "cell_type": "markdown",
   "id": "b4124c75-c566-405d-8609-30f95913974b",
   "metadata": {},
   "source": [
    "## String Format\n",
    "We can not combine strings and numbers in Python,  without typecasting the numbers"
   ]
  },
  {
   "cell_type": "code",
   "execution_count": 56,
   "id": "c6bb86e4-d69b-4736-85d8-a9202eded4e5",
   "metadata": {},
   "outputs": [
    {
     "ename": "TypeError",
     "evalue": "can only concatenate str (not \"int\") to str",
     "output_type": "error",
     "traceback": [
      "\u001b[1;31m---------------------------------------------------------------------------\u001b[0m",
      "\u001b[1;31mTypeError\u001b[0m                                 Traceback (most recent call last)",
      "Cell \u001b[1;32mIn[56], line 3\u001b[0m\n\u001b[0;32m      1\u001b[0m age \u001b[38;5;241m=\u001b[39m \u001b[38;5;241m36\u001b[39m\n\u001b[0;32m      2\u001b[0m name \u001b[38;5;241m=\u001b[39m \u001b[38;5;124m'\u001b[39m\u001b[38;5;124mJohn\u001b[39m\u001b[38;5;124m'\u001b[39m\n\u001b[1;32m----> 3\u001b[0m txt \u001b[38;5;241m=\u001b[39m \u001b[43mname\u001b[49m\u001b[43m \u001b[49m\u001b[38;5;241;43m+\u001b[39;49m\u001b[43m \u001b[49m\u001b[38;5;124;43m\"\u001b[39;49m\u001b[38;5;124;43m is \u001b[39;49m\u001b[38;5;124;43m\"\u001b[39;49m\u001b[43m \u001b[49m\u001b[38;5;241;43m+\u001b[39;49m\u001b[43m \u001b[49m\u001b[43mage\u001b[49m \u001b[38;5;241m+\u001b[39m \u001b[38;5;124m\"\u001b[39m\u001b[38;5;124m years old.\u001b[39m\u001b[38;5;124m\"\u001b[39m\n\u001b[0;32m      4\u001b[0m \u001b[38;5;28mprint\u001b[39m(txt)\n",
      "\u001b[1;31mTypeError\u001b[0m: can only concatenate str (not \"int\") to str"
     ]
    }
   ],
   "source": [
    "age = 36\n",
    "name = 'John'\n",
    "txt = name + \" is \" + age + \" years old.\"\n",
    "print(txt)"
   ]
  },
  {
   "cell_type": "markdown",
   "id": "f6f3dbb5-0c71-4e77-bd32-886da99821d8",
   "metadata": {},
   "source": [
    "## Fstrings\n",
    "Put an 'f' in front of the string literal and add curly brackets {} as 'placeholder' for the variables an other operations"
   ]
  },
  {
   "cell_type": "code",
   "execution_count": 58,
   "id": "cb1d3c7d-978a-4b70-86d4-9e971f4d4fa8",
   "metadata": {},
   "outputs": [
    {
     "name": "stdout",
     "output_type": "stream",
     "text": [
      "John is 36 years old.\n"
     ]
    }
   ],
   "source": [
    "txt = f\"{name} is {age} years old.\"\n",
    "print(txt)"
   ]
  },
  {
   "cell_type": "markdown",
   "id": "2a48d92b-08cf-49b6-a97f-fbd1bf2ccd8a",
   "metadata": {},
   "source": [
    "## Placeholders & Modifiers\n",
    "A placeholder can contain variables, operations, functions & modifiers to format the value"
   ]
  },
  {
   "cell_type": "code",
   "execution_count": 61,
   "id": "9eef2e68-a213-41c7-b4b0-a8ca93917242",
   "metadata": {},
   "outputs": [
    {
     "name": "stdout",
     "output_type": "stream",
     "text": [
      "The price is 59 dollars.\n"
     ]
    }
   ],
   "source": [
    "# add a placeholder for the price variable\n",
    "price = 59\n",
    "txt = f\"The price is {price} dollars.\"\n",
    "print(txt)"
   ]
  },
  {
   "cell_type": "markdown",
   "id": "5b27fed1-d062-4ac8-8589-9731e457a887",
   "metadata": {},
   "source": [
    "### A place holder can use a _modifier_ by adding a colol _:_  followed by a legal formatting type"
   ]
  },
  {
   "cell_type": "code",
   "execution_count": 68,
   "id": "699ba255-60a6-4c8c-9c55-4629398d63b3",
   "metadata": {},
   "outputs": [
    {
     "name": "stdout",
     "output_type": "stream",
     "text": [
      "The price is $59.00\n"
     ]
    }
   ],
   "source": [
    "# display the price with 2 decimals:\n",
    "price = 59\n",
    "txt = f\"The price is ${price:.2f}\"\n",
    "print(txt)"
   ]
  },
  {
   "cell_type": "code",
   "execution_count": 70,
   "id": "16169b91-bb62-4811-8f6e-b2658f7c6f53",
   "metadata": {},
   "outputs": [
    {
     "name": "stdout",
     "output_type": "stream",
     "text": [
      "The price for 5 items is $295.\n"
     ]
    }
   ],
   "source": [
    "### A placeholder can contain python code, like math operation\n",
    "txt = f\"The price for 5 items is ${price * 5}.\"\n",
    "print(txt)"
   ]
  },
  {
   "cell_type": "code",
   "execution_count": null,
   "id": "ed4c5590-b450-4484-90de-23b7c070fad7",
   "metadata": {},
   "outputs": [],
   "source": []
  }
 ],
 "metadata": {
  "kernelspec": {
   "display_name": "Python 3 (ipykernel)",
   "language": "python",
   "name": "python3"
  },
  "language_info": {
   "codemirror_mode": {
    "name": "ipython",
    "version": 3
   },
   "file_extension": ".py",
   "mimetype": "text/x-python",
   "name": "python",
   "nbconvert_exporter": "python",
   "pygments_lexer": "ipython3",
   "version": "3.11.4"
  }
 },
 "nbformat": 4,
 "nbformat_minor": 5
}
