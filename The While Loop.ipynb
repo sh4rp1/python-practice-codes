{
 "cells": [
  {
   "cell_type": "markdown",
   "id": "f522e113-1b52-483a-91a7-55773b09ae78",
   "metadata": {},
   "source": [
    "### The While Loop\n",
    "we can use _while_ loop to execute a set of statements as long as a condition is true.\n"
   ]
  },
  {
   "cell_type": "code",
   "execution_count": 1,
   "id": "17174a02-706e-4385-a887-becc627c760d",
   "metadata": {},
   "outputs": [
    {
     "name": "stdout",
     "output_type": "stream",
     "text": [
      "1\n",
      "2\n",
      "3\n",
      "4\n",
      "5\n"
     ]
    }
   ],
   "source": [
    "# print i as long as i is less than 6:\n",
    "i = 1\n",
    "while i<6:\n",
    "    print(i)\n",
    "    i += 1"
   ]
  },
  {
   "cell_type": "markdown",
   "id": "b15994a0-cfbf-4b11-a458-37a45bad9ae9",
   "metadata": {},
   "source": [
    "## The break statement \n",
    "- we can stop the loop even when the condition is true"
   ]
  },
  {
   "cell_type": "code",
   "execution_count": 2,
   "id": "578b85fd-2375-47ed-90a5-089d2d59b26e",
   "metadata": {},
   "outputs": [
    {
     "name": "stdout",
     "output_type": "stream",
     "text": [
      "1\n",
      "2\n",
      "3\n"
     ]
    }
   ],
   "source": [
    "# exit the while loop when i = 3\n",
    "i = 1\n",
    "while i<6:\n",
    "    print(i)\n",
    "    if i == 3:\n",
    "        break\n",
    "    i += 1"
   ]
  },
  {
   "cell_type": "markdown",
   "id": "6d0c25d8-dfab-4e89-9368-045d041f34f7",
   "metadata": {},
   "source": [
    "## The Continue statement\n",
    "- With the _continue_ statement we can stop the current iteration, and continue with the next one\n"
   ]
  },
  {
   "cell_type": "code",
   "execution_count": 1,
   "id": "ac14ca15-39df-4707-9a97-63bbb0573755",
   "metadata": {},
   "outputs": [
    {
     "name": "stdout",
     "output_type": "stream",
     "text": [
      "1\n",
      "2\n",
      "4\n",
      "5\n",
      "6\n"
     ]
    }
   ],
   "source": [
    "#example\n",
    "# continue to next iteration of i is 3\n",
    "i = 0 \n",
    "while i<6:\n",
    "    i+=1\n",
    "    if i==3:\n",
    "        continue\n",
    "    print(i)"
   ]
  },
  {
   "cell_type": "markdown",
   "id": "ee1429bb-c397-4ae4-9534-716e9160a06a",
   "metadata": {},
   "source": [
    "## The else statement\n",
    "with the _else_ statement we can run a block of code once when the condn. no longer is true\n"
   ]
  },
  {
   "cell_type": "code",
   "execution_count": null,
   "id": "cc7eba87-2c07-4719-8d2d-cb9850a765d0",
   "metadata": {},
   "outputs": [],
   "source": [
    "# print a message once the condition becomes fault"
   ]
  },
  {
   "cell_type": "code",
   "execution_count": 1,
   "id": "9a1cd9d8-0bb7-48a5-80b3-720e9b6dd387",
   "metadata": {},
   "outputs": [
    {
     "name": "stdout",
     "output_type": "stream",
     "text": [
      "1\n",
      "2\n",
      "3\n",
      "4\n",
      "5\n",
      "i is greater than 6\n"
     ]
    }
   ],
   "source": [
    "i=1\n",
    "while i<6:\n",
    "    print(i)\n",
    "    i += 1\n",
    "else:\n",
    "    print(\"i is greater than 6\")"
   ]
  },
  {
   "cell_type": "code",
   "execution_count": null,
   "id": "8dfbed58-6f34-40e5-bdd7-5556b6db2990",
   "metadata": {},
   "outputs": [],
   "source": [
    "2+2"
   ]
  },
  {
   "cell_type": "code",
   "execution_count": null,
   "id": "90ad6499-89a4-4524-823e-926be1f3abef",
   "metadata": {},
   "outputs": [],
   "source": []
  },
  {
   "cell_type": "code",
   "execution_count": null,
   "id": "e7acb17a-2b90-45c0-9666-5d824e6cf1ce",
   "metadata": {},
   "outputs": [],
   "source": []
  },
  {
   "cell_type": "code",
   "execution_count": null,
   "id": "4ae378da-1284-4b56-9e3d-39c2d36e98be",
   "metadata": {},
   "outputs": [],
   "source": []
  }
 ],
 "metadata": {
  "kernelspec": {
   "display_name": "Python 3 (ipykernel)",
   "language": "python",
   "name": "python3"
  },
  "language_info": {
   "codemirror_mode": {
    "name": "ipython",
    "version": 3
   },
   "file_extension": ".py",
   "mimetype": "text/x-python",
   "name": "python",
   "nbconvert_exporter": "python",
   "pygments_lexer": "ipython3",
   "version": "3.11.4"
  }
 },
 "nbformat": 4,
 "nbformat_minor": 5
}
