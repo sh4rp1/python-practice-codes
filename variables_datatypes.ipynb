{
 "cells": [
  {
   "cell_type": "markdown",
   "id": "0991a459-1789-4d4c-96b7-8e73b5171d50",
   "metadata": {},
   "source": [
    "# Variables"
   ]
  },
  {
   "cell_type": "markdown",
   "id": "d528dd3c-ba31-434a-85ef-41ef0c4207ce",
   "metadata": {},
   "source": [
    "Variables are containers that stores data. Python does not have any commands for declaring variables.\n",
    "To create variables we simply assing a value to it."
   ]
  },
  {
   "cell_type": "code",
   "execution_count": 1,
   "id": "1009a533-749c-4956-9693-890f6a2f9955",
   "metadata": {},
   "outputs": [],
   "source": [
    "age = 21\n",
    "name = 'Mary'"
   ]
  },
  {
   "cell_type": "code",
   "execution_count": 2,
   "id": "b29d4707-22ab-4ee5-a0ba-f01cf0a040d0",
   "metadata": {},
   "outputs": [
    {
     "name": "stdout",
     "output_type": "stream",
     "text": [
      "21\n",
      "Mary\n"
     ]
    }
   ],
   "source": [
    "print(age)\n",
    "print(name)"
   ]
  },
  {
   "cell_type": "markdown",
   "id": "90e6428e-28b4-4f92-9c9b-bc0d1cf2d420",
   "metadata": {},
   "source": [
    "## Printing Variables with texts"
   ]
  },
  {
   "cell_type": "code",
   "execution_count": 4,
   "id": "83477c5f-d67f-4ecf-8a42-2e8c09900bea",
   "metadata": {},
   "outputs": [
    {
     "name": "stdout",
     "output_type": "stream",
     "text": [
      "Mary is 21 years old.\n"
     ]
    }
   ],
   "source": [
    "print(name, \"is\", age, \"years old.\")"
   ]
  },
  {
   "cell_type": "code",
   "execution_count": 5,
   "id": "182da9ca-cc8a-47bb-b677-2a0a5bd581de",
   "metadata": {},
   "outputs": [
    {
     "name": "stdout",
     "output_type": "stream",
     "text": [
      "John is older than Mary. He is 26 years old.\n"
     ]
    }
   ],
   "source": [
    "print(\"John is older than\", name+\". He is\", age + 5, \"years old.\")"
   ]
  },
  {
   "cell_type": "markdown",
   "id": "25a3e919-0cde-4ee7-9dd7-7b0fb04970af",
   "metadata": {},
   "source": [
    "## Reassigning Variables"
   ]
  },
  {
   "cell_type": "code",
   "execution_count": 7,
   "id": "221f769a-c221-4678-9f68-15957797d584",
   "metadata": {},
   "outputs": [],
   "source": [
    "friend_name = name"
   ]
  },
  {
   "cell_type": "code",
   "execution_count": 8,
   "id": "6741c597-dd18-4251-b513-1b4afea9bcb7",
   "metadata": {},
   "outputs": [
    {
     "name": "stdout",
     "output_type": "stream",
     "text": [
      "Mary\n"
     ]
    }
   ],
   "source": [
    "print(friend_name)"
   ]
  },
  {
   "cell_type": "markdown",
   "id": "42343c7f-2d14-4537-8128-1b1f577fd679",
   "metadata": {},
   "source": [
    "## Multiple Variable Assingment with same value"
   ]
  },
  {
   "cell_type": "code",
   "execution_count": 9,
   "id": "4ec653e4-9007-4439-af53-8127159896a4",
   "metadata": {},
   "outputs": [],
   "source": [
    "mary_age = john_age = steve_age =21"
   ]
  },
  {
   "cell_type": "code",
   "execution_count": 12,
   "id": "3147e0a1-fc25-405e-aa88-3b88741b97c3",
   "metadata": {},
   "outputs": [
    {
     "name": "stdout",
     "output_type": "stream",
     "text": [
      "21\n",
      "21\n",
      "21\n"
     ]
    }
   ],
   "source": [
    "print(mary_age)\n",
    "print(john_age)\n",
    "print(steve_age)"
   ]
  },
  {
   "cell_type": "markdown",
   "id": "7a3c58c2-63c1-4526-9845-c223ee664dc2",
   "metadata": {},
   "source": [
    "## Multiple Variable Assingment with different values"
   ]
  },
  {
   "cell_type": "code",
   "execution_count": 16,
   "id": "87a7f88e-910f-43d8-98d8-f6ce4a7d94cf",
   "metadata": {},
   "outputs": [],
   "source": [
    "age, income, name = 21, \"4000\", \"Atul\""
   ]
  },
  {
   "cell_type": "code",
   "execution_count": 17,
   "id": "3ea8faff-057e-48c8-b5c1-bd34a9f857b5",
   "metadata": {},
   "outputs": [
    {
     "name": "stdout",
     "output_type": "stream",
     "text": [
      "Atul is 21 years old and earns $4000.\n"
     ]
    }
   ],
   "source": [
    "print(name, 'is', age, 'years old and earns $'+ income +'.' )"
   ]
  },
  {
   "cell_type": "markdown",
   "id": "3de9cd1a-bd28-48af-b0b6-ab9f1aa97014",
   "metadata": {},
   "source": [
    " # Data Types"
   ]
  },
  {
   "cell_type": "markdown",
   "id": "b667a47c-ef5e-49a1-a2d3-14d79083196a",
   "metadata": {},
   "source": [
    "- String\n",
    "- Numeric\n",
    "    - Integer\n",
    "    - Float\n",
    "    - Complex\n",
    "- Boolean\n",
    "- None\n",
    "- Collection\n",
    "    - List\n",
    "    - Tuple\n",
    "    - Dictionary\n",
    "    - Set      "
   ]
  },
  {
   "cell_type": "markdown",
   "id": "222f1ed4-14a0-475c-a054-6b08b9fc43e1",
   "metadata": {},
   "source": [
    "## Creating Integer & String Variables"
   ]
  },
  {
   "cell_type": "code",
   "execution_count": 2,
   "id": "adb1b06a-4f71-481d-8545-10f2d2fb1e07",
   "metadata": {},
   "outputs": [],
   "source": [
    "age = 21"
   ]
  },
  {
   "cell_type": "code",
   "execution_count": 3,
   "id": "d71edd34-7eb3-497b-971e-5f01df65e0bf",
   "metadata": {},
   "outputs": [],
   "source": [
    "name = 'Mary'"
   ]
  },
  {
   "cell_type": "code",
   "execution_count": 4,
   "id": "57675ed8-f105-4ed9-9936-9a0e72401004",
   "metadata": {},
   "outputs": [
    {
     "name": "stdout",
     "output_type": "stream",
     "text": [
      "21\n",
      "Mary\n"
     ]
    }
   ],
   "source": [
    "print(age)\n",
    "print(name)"
   ]
  },
  {
   "cell_type": "markdown",
   "id": "fc496961-5423-4832-ad46-c26711ddae59",
   "metadata": {},
   "source": [
    "## Creating float & Boolean Variables"
   ]
  },
  {
   "cell_type": "code",
   "execution_count": 6,
   "id": "fa8bf613-df12-431b-8e33-063cfb46793f",
   "metadata": {},
   "outputs": [
    {
     "name": "stdout",
     "output_type": "stream",
     "text": [
      "3432.15\n",
      "True\n"
     ]
    }
   ],
   "source": [
    "product_price = 3432.15  ##float\n",
    "success = True  ##Boolean\n",
    "print(product_price)\n",
    "print(success)"
   ]
  },
  {
   "cell_type": "markdown",
   "id": "12112ec8-f9f4-4d33-8403-d07815b8b009",
   "metadata": {},
   "source": [
    "## Checking Data Types with __type()__ finction "
   ]
  },
  {
   "cell_type": "code",
   "execution_count": 8,
   "id": "ae47032a-eb32-48eb-8ec8-76a083c05c1f",
   "metadata": {},
   "outputs": [
    {
     "name": "stdout",
     "output_type": "stream",
     "text": [
      "<class 'str'>\n",
      "<class 'int'>\n",
      "<class 'float'>\n",
      "<class 'bool'>\n"
     ]
    }
   ],
   "source": [
    "print(type(name))\n",
    "print(type(age))\n",
    "print(type(product_price))\n",
    "print(type(success))"
   ]
  },
  {
   "cell_type": "markdown",
   "id": "3442a4fa-537f-48d2-9204-57c172797291",
   "metadata": {},
   "source": [
    "# Date Type Conversion\n",
    "Python allows to convert one data type to another\n",
    "- Type Conversion\n",
    "  - Implicit Conversion - Arithmetic Operations\n",
    "  - Explicit Conversion - Casting Operations"
   ]
  },
  {
   "cell_type": "code",
   "execution_count": 12,
   "id": "034f6b16-d9fe-4a06-bf70-74685023b2af",
   "metadata": {},
   "outputs": [
    {
     "name": "stdout",
     "output_type": "stream",
     "text": [
      "250.75\n",
      "<class 'float'>\n"
     ]
    }
   ],
   "source": [
    "## Implicit Conversion \n",
    "#integer type\n",
    "income = 200\n",
    "#float type data \n",
    "additional_income = 50.75\n",
    "#implicit conversion - Upon addition the resulatant variable becomes float type\n",
    "total_income = income + additional_income\n",
    "print(total_income)\n",
    "print(type(total_income))\n"
   ]
  },
  {
   "cell_type": "code",
   "execution_count": 13,
   "id": "0a222837-e810-4943-9fe0-2cd8d1bcca95",
   "metadata": {},
   "outputs": [],
   "source": [
    "# note - Explicit conversion is required when you have a mixed data type"
   ]
  },
  {
   "cell_type": "code",
   "execution_count": 15,
   "id": "9315a806-5310-4a7b-bbf7-0403e0789d60",
   "metadata": {},
   "outputs": [
    {
     "ename": "TypeError",
     "evalue": "unsupported operand type(s) for +: 'int' and 'str'",
     "output_type": "error",
     "traceback": [
      "\u001b[1;31m---------------------------------------------------------------------------\u001b[0m",
      "\u001b[1;31mTypeError\u001b[0m                                 Traceback (most recent call last)",
      "Cell \u001b[1;32mIn[15], line 3\u001b[0m\n\u001b[0;32m      1\u001b[0m price \u001b[38;5;241m=\u001b[39m \u001b[38;5;241m100\u001b[39m \u001b[38;5;66;03m#numeric\u001b[39;00m\n\u001b[0;32m      2\u001b[0m tax \u001b[38;5;241m=\u001b[39m \u001b[38;5;124m\"\u001b[39m\u001b[38;5;124m18\u001b[39m\u001b[38;5;124m\"\u001b[39m \u001b[38;5;66;03m#string\u001b[39;00m\n\u001b[1;32m----> 3\u001b[0m total_cost \u001b[38;5;241m=\u001b[39m \u001b[43mprice\u001b[49m\u001b[43m \u001b[49m\u001b[38;5;241;43m+\u001b[39;49m\u001b[43m \u001b[49m\u001b[43mtax\u001b[49m\n",
      "\u001b[1;31mTypeError\u001b[0m: unsupported operand type(s) for +: 'int' and 'str'"
     ]
    }
   ],
   "source": [
    "price = 100 #numeric\n",
    "tax = \"18\" #string\n",
    "total_cost = price + tax"
   ]
  },
  {
   "cell_type": "code",
   "execution_count": 16,
   "id": "ace05261-bfdf-4cbd-b977-0262054d0423",
   "metadata": {},
   "outputs": [],
   "source": [
    "# Corrected Code "
   ]
  },
  {
   "cell_type": "code",
   "execution_count": 17,
   "id": "59eb84d9-a5de-4982-8d33-f0c41f8ae65e",
   "metadata": {},
   "outputs": [],
   "source": [
    "total_cost = price + int(tax)  #explicit conversion to int data type"
   ]
  },
  {
   "cell_type": "code",
   "execution_count": 18,
   "id": "70a98b19-80b1-49a8-8354-0715dc05a83e",
   "metadata": {},
   "outputs": [
    {
     "name": "stdout",
     "output_type": "stream",
     "text": [
      "118\n"
     ]
    }
   ],
   "source": [
    "print(total_cost)"
   ]
  },
  {
   "cell_type": "markdown",
   "id": "36011e08-ab99-4f41-b7b0-ec1c972f6d0a",
   "metadata": {},
   "source": [
    "# Type Casting"
   ]
  },
  {
   "cell_type": "markdown",
   "id": "26430078-6dab-4ea0-8dfc-e6646e91931e",
   "metadata": {},
   "source": [
    "Type casting also known as type conversion is the process of converting a variable from one data type to another in python.\n",
    "It can be done explicitly by a programmer or imlictly by python"
   ]
  },
  {
   "cell_type": "markdown",
   "id": "48e2ca9d-a7fa-4770-9680-d0d5c14c2a7b",
   "metadata": {},
   "source": [
    "Type Casting\n",
    "- int()\n",
    "- float()\n",
    "- str()\n",
    "- bool()"
   ]
  },
  {
   "cell_type": "code",
   "execution_count": 23,
   "id": "a2e22869-dc85-482a-9e96-9cd8fab0e65f",
   "metadata": {},
   "outputs": [],
   "source": [
    "# original_values\n",
    "num_str = '100'\n",
    "num_float = 10.5\n",
    "num_int = 25\n",
    "empty_str = \"\""
   ]
  },
  {
   "cell_type": "code",
   "execution_count": 29,
   "id": "34c27c31-6404-4b74-b017-6472a82c5cc3",
   "metadata": {},
   "outputs": [
    {
     "name": "stdout",
     "output_type": "stream",
     "text": [
      "Integer: 100 <class 'int'>\n",
      "Float: 25.0 <class 'float'>\n",
      "String: 10.5 <class 'str'>\n",
      "Boolean(Non-Zero int): True <class 'bool'>\n",
      "Boolean(Empty String): False <class 'bool'>\n"
     ]
    }
   ],
   "source": [
    "# typecasting \n",
    "int_value = int(num_str)\n",
    "float_value = float(num_int)\n",
    "str_value = str(num_float)\n",
    "bool_value1 = bool(num_int)\n",
    "bool_value2 = bool(empty_str)\n",
    "#printing values\n",
    "print(\"Integer:\", int_value, type(int_value))\n",
    "print(\"Float:\", float_value, type(float_value))\n",
    "print(\"String:\", str_value, type(str_value))\n",
    "print(\"Boolean(Non-Zero int):\", bool_value1, type(bool_value1))\n",
    "print(\"Boolean(Empty String):\", bool_value2, type(bool_value2))"
   ]
  },
  {
   "cell_type": "code",
   "execution_count": null,
   "id": "d68f1ec3-8098-4fc7-bd60-483bf2a15ba0",
   "metadata": {},
   "outputs": [],
   "source": []
  }
 ],
 "metadata": {
  "kernelspec": {
   "display_name": "Python 3 (ipykernel)",
   "language": "python",
   "name": "python3"
  },
  "language_info": {
   "codemirror_mode": {
    "name": "ipython",
    "version": 3
   },
   "file_extension": ".py",
   "mimetype": "text/x-python",
   "name": "python",
   "nbconvert_exporter": "python",
   "pygments_lexer": "ipython3",
   "version": "3.11.4"
  }
 },
 "nbformat": 4,
 "nbformat_minor": 5
}
