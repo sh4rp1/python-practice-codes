{
 "cells": [
  {
   "cell_type": "markdown",
   "id": "5dceb6a4-d3b7-47bd-94cc-adf18bc723f7",
   "metadata": {},
   "source": [
    "# Python Functions\n",
    "- A function is a block of code which only runs when it is called.\n",
    "\n",
    "- You can pass data, known as parameters, into a function.\n",
    "\n",
    "- A function can return data as a result.\n",
    "\n"
   ]
  },
  {
   "cell_type": "markdown",
   "id": "a620fb10-e40d-471d-82c8-b9098335638e",
   "metadata": {},
   "source": [
    "### Creating a Function\n",
    "A function is defined using the _def_ keyword"
   ]
  },
  {
   "cell_type": "code",
   "execution_count": 2,
   "id": "ef2220b9-f7ec-49d2-91f1-cfbd4cafecad",
   "metadata": {},
   "outputs": [],
   "source": [
    "def my_function():\n",
    "    print(\"Hello from a function\")"
   ]
  },
  {
   "cell_type": "markdown",
   "id": "dc74b3b8-c382-427f-86e2-c98ffe3b7455",
   "metadata": {},
   "source": [
    "## Calling a function\n",
    "To call a function, we use function name followed by the parenthesis"
   ]
  },
  {
   "cell_type": "code",
   "execution_count": 4,
   "id": "a249b488-437f-4b10-a0b1-8ecc93f0b409",
   "metadata": {},
   "outputs": [
    {
     "name": "stdout",
     "output_type": "stream",
     "text": [
      "Hello from a function\n"
     ]
    }
   ],
   "source": [
    "def my_function():\n",
    "    print(\"Hello from a function\")\n",
    "my_function()"
   ]
  },
  {
   "cell_type": "markdown",
   "id": "d7f2a292-7f12-49a9-b543-4e38cecf014f",
   "metadata": {},
   "source": [
    "## Arguments\n",
    "- Infomation can be passed into functions as arguments.\n",
    "- Arguments are specified after the function name, inside the parenthesis. In python function we can add as many arguments as we want, separated by comma."
   ]
  },
  {
   "cell_type": "code",
   "execution_count": 6,
   "id": "9888703d-86a7-4b11-8063-531a8be2b58b",
   "metadata": {},
   "outputs": [
    {
     "name": "stdout",
     "output_type": "stream",
     "text": [
      "Raja Refsnes\n",
      "Raghu Refsnes\n",
      "Ram Refsnes\n"
     ]
    }
   ],
   "source": [
    "## example\n",
    "def my_function(fname):\n",
    "    print(fname+\" Refsnes\")\n",
    "\n",
    "my_function(\"Raja\")\n",
    "my_function(\"Raghu\")\n",
    "my_function(\"Ram\")"
   ]
  },
  {
   "cell_type": "markdown",
   "id": "45ce1562-db06-4205-8573-3802263a8dd3",
   "metadata": {},
   "source": [
    "In the above function with one argumen i.e, fname, when the function is called we pass along a first name, which is used inside the function to print the full name"
   ]
  },
  {
   "cell_type": "markdown",
   "id": "a638678e-7de0-41c8-9df8-1cd92dd4fcd5",
   "metadata": {},
   "source": [
    "## Parameters or Arguments\n",
    "\n",
    "the terms _parameters_ & _arguments_ are often used for the same thing, i.e, information that are passed into a function."
   ]
  },
  {
   "cell_type": "markdown",
   "id": "2802ab3d-06c1-49a3-adfd-a9b788e9ef76",
   "metadata": {},
   "source": [
    "### From a function's perpective:\n",
    "A parameter is the variable listed inside the parenthesis in the function definition.\n",
    "An argument is the value that is sent to function when it is called."
   ]
  },
  {
   "cell_type": "markdown",
   "id": "300491d4-3a79-4038-a383-a37d6fad2169",
   "metadata": {},
   "source": [
    "### Number of Arguments\n",
    "By default, a function must be called with the correct number of arguments, basically if the function is expecting 2 arguments, then while calling it must be called with 2 arguments, not more or less.\n"
   ]
  },
  {
   "cell_type": "code",
   "execution_count": 7,
   "id": "1818db2f-978c-4593-8566-bbcec38e4b2b",
   "metadata": {},
   "outputs": [
    {
     "name": "stdout",
     "output_type": "stream",
     "text": [
      "Joe Blake\n"
     ]
    }
   ],
   "source": [
    "# function with 2 args\n",
    "def my_function(fname, lname):\n",
    "    print(fname + \" \" + lname)\n",
    "\n",
    "my_function(\"Joe\", \"Blake\")"
   ]
  },
  {
   "cell_type": "markdown",
   "id": "d9b3d801-31ed-4dd9-87fa-2e626c40ce06",
   "metadata": {},
   "source": [
    "## Arbitrary Arguments, *args\n",
    "- if the number of arguments to be passed are not known we can just add a * before the parameter name in the function definition.\n",
    "- this way the function will receive a _tuple_ of arguments, and can access the items accordingly"
   ]
  },
  {
   "cell_type": "code",
   "execution_count": 4,
   "id": "33783692-7c24-41c1-aa0b-1a20e3644f78",
   "metadata": {},
   "outputs": [
    {
     "name": "stdout",
     "output_type": "stream",
     "text": [
      "The youngest child is Satrughan\n"
     ]
    }
   ],
   "source": [
    "# If the number of arguments is unknown, add a * before the parameter name:\n",
    "my_function(\"Ram\", \"Laxman\", \"Bharath\", \"Satrughan\")\n",
    "\n",
    "def my_function(*kids):\n",
    "    print('The youngest child is ' + kids[-1])\n",
    "\n"
   ]
  },
  {
   "cell_type": "markdown",
   "id": "cf4f41c2-51c1-4c9e-9880-cd8d67f9cf3a",
   "metadata": {},
   "source": [
    "### !note: the Arbitrary Arguments are often shortened to *args"
   ]
  },
  {
   "cell_type": "markdown",
   "id": "2de5a0bb-2eec-45c9-9b29-fbddfb436c0f",
   "metadata": {},
   "source": [
    "## Keyword Arguments(kwargs)\n",
    "- arguments can also be sent with key = value syntax\n",
    "- this way the order of the argument does not matter"
   ]
  },
  {
   "cell_type": "code",
   "execution_count": 11,
   "id": "2acca9ed-a919-4795-b803-b4ab7b80ea17",
   "metadata": {},
   "outputs": [
    {
     "name": "stdout",
     "output_type": "stream",
     "text": [
      "the youngest child is Satrughan.\n"
     ]
    }
   ],
   "source": [
    "def my_function(c3, c2, c1, c4):\n",
    "    print(\"the youngest child is \"+ c4 + \".\")\n",
    "\n",
    "my_function(c1=\"Ram\", c2=\"Bharath\", c3=\"Laxman\", c4=\"Satrughan\")"
   ]
  },
  {
   "cell_type": "markdown",
   "id": "0712c012-d5e2-4800-802c-4b5397d99220",
   "metadata": {},
   "source": [
    "## Arbitrary Keyword Arguments, (**kwargs)\n",
    "- just like in case of arbitrary arguments if you dont know how many arguments will be passed into your function, addind two aestricks **, before the parameter name in the function name can do the trick.\n",
    "- This way the function receives a _dictionary_ of arguments, and can access the items accordingly\n"
   ]
  },
  {
   "cell_type": "code",
   "execution_count": 14,
   "id": "63f33d15-b8a9-4aae-87eb-00df9bd6905b",
   "metadata": {},
   "outputs": [
    {
     "name": "stdout",
     "output_type": "stream",
     "text": [
      "His last name is Bhargav\n"
     ]
    }
   ],
   "source": [
    "## if the number of keyword arguments are unknown, adding a double ** before the parameter name\n",
    "\n",
    "def my_function(**kids):\n",
    "    print(\"His last name is \"+kids[\"lname\"])\n",
    "\n",
    "my_function(fname = \"Mohan\", lname = 'Bhargav')"
   ]
  },
  {
   "cell_type": "markdown",
   "id": "0b9cd53f-fc17-4d0f-8d99-4aeeeae53b58",
   "metadata": {},
   "source": [
    "## Default Parameter Value\n",
    "- The following example shows how to use a default parameter value.\n",
    "- If we call the function w/o any argument, it uses the default value\n"
   ]
  },
  {
   "cell_type": "code",
   "execution_count": 17,
   "id": "149a1e4c-4356-4611-9486-ad879ee7fe31",
   "metadata": {},
   "outputs": [
    {
     "name": "stdout",
     "output_type": "stream",
     "text": [
      "She is from Sweden\n",
      "She is from China\n",
      "She is from India\n",
      "She is from Brazil\n"
     ]
    }
   ],
   "source": [
    "def my_function(country = \"India\"):\n",
    "    print(\"She is from \"+ country)\n",
    "\n",
    "my_function(\"Sweden\")\n",
    "my_function(\"China\")\n",
    "my_function()\n",
    "my_function(\"Brazil\")"
   ]
  },
  {
   "cell_type": "markdown",
   "id": "4c5f5b09-15ef-4096-8085-05e3e60f2da6",
   "metadata": {},
   "source": [
    "## Passing a list as an argument\n",
    "we can send any data types of argument to a function(string, number, lists, dictionary etc). and it will be treated as the same data type inside the function.\n",
    "eg. if you send a List as an argument, it will still be list when it reaches the function"
   ]
  },
  {
   "cell_type": "code",
   "execution_count": 19,
   "id": "b66c3925-0675-47cf-943d-f8361a0db949",
   "metadata": {},
   "outputs": [
    {
     "name": "stdout",
     "output_type": "stream",
     "text": [
      "apple\n",
      "banana\n",
      "cherry\n"
     ]
    }
   ],
   "source": [
    "def my_function(food):\n",
    "    for x in food:\n",
    "        print(x)\n",
    "\n",
    "fruits = [\"apple\", \"banana\", \"cherry\"]\n",
    "\n",
    "my_function(fruits)"
   ]
  },
  {
   "cell_type": "markdown",
   "id": "396bc1c5-c966-4c39-9b67-a59f0d001d68",
   "metadata": {},
   "source": [
    "## Return Values\n",
    "to let a function return a value, _return_ funtion is used"
   ]
  },
  {
   "cell_type": "code",
   "execution_count": 24,
   "id": "83b890c0-3c11-4bd4-98c2-800b564464ae",
   "metadata": {},
   "outputs": [
    {
     "name": "stdout",
     "output_type": "stream",
     "text": [
      "15\n",
      "120\n",
      "195\n"
     ]
    }
   ],
   "source": [
    "def my_function(x):\n",
    "    return 5 * x\n",
    "\n",
    "print(my_function(3))\n",
    "print(my_function(24))\n",
    "print(my_function(39))"
   ]
  },
  {
   "cell_type": "markdown",
   "id": "317bf13b-2ec2-4100-9d77-0a4517188742",
   "metadata": {},
   "source": [
    "## The pass statement\n",
    "_function_ definitions cannot be empty, but if for it needs to have no content, putting in the _pass_ statement can do the job of avoiding errors."
   ]
  },
  {
   "cell_type": "code",
   "execution_count": 25,
   "id": "e483f397-f62c-4772-ae75-e6922bad5a1f",
   "metadata": {},
   "outputs": [],
   "source": [
    "def myfunction():\n",
    "    pass"
   ]
  },
  {
   "cell_type": "markdown",
   "id": "58dbb8c1-4c62-4e01-b05f-8e8b1b8f8e95",
   "metadata": {},
   "source": [
    "## positional-Only Arguments\n",
    "- it can be specified that if a function is going to have either positional arguments or keyword arguments.\n",
    "- To specicy that a function can have only positional arguments, add '/' after the arguments\n"
   ]
  },
  {
   "cell_type": "code",
   "execution_count": 29,
   "id": "be4437d6-259b-4ce5-8b0b-903edb1ec6b1",
   "metadata": {},
   "outputs": [
    {
     "name": "stdout",
     "output_type": "stream",
     "text": [
      "3\n"
     ]
    }
   ],
   "source": [
    "## Example\n",
    "def my_function(x, /):\n",
    "    print(x)\n",
    "\n",
    "my_function(3)"
   ]
  },
  {
   "cell_type": "code",
   "execution_count": 30,
   "id": "d1926c94-ffa4-4a44-ab74-7dd4848c2217",
   "metadata": {},
   "outputs": [
    {
     "ename": "TypeError",
     "evalue": "my_function() got some positional-only arguments passed as keyword arguments: 'x'",
     "output_type": "error",
     "traceback": [
      "\u001b[1;31m---------------------------------------------------------------------------\u001b[0m",
      "\u001b[1;31mTypeError\u001b[0m                                 Traceback (most recent call last)",
      "Cell \u001b[1;32mIn[30], line 5\u001b[0m\n\u001b[0;32m      2\u001b[0m \u001b[38;5;28;01mdef\u001b[39;00m \u001b[38;5;21mmy_function\u001b[39m(x, \u001b[38;5;241m/\u001b[39m):\n\u001b[0;32m      3\u001b[0m     \u001b[38;5;28mprint\u001b[39m(x)\n\u001b[1;32m----> 5\u001b[0m \u001b[43mmy_function\u001b[49m\u001b[43m(\u001b[49m\u001b[43mx\u001b[49m\u001b[43m \u001b[49m\u001b[38;5;241;43m=\u001b[39;49m\u001b[43m \u001b[49m\u001b[38;5;241;43m3\u001b[39;49m\u001b[43m)\u001b[49m\n",
      "\u001b[1;31mTypeError\u001b[0m: my_function() got some positional-only arguments passed as keyword arguments: 'x'"
     ]
    }
   ],
   "source": [
    "## Example\n",
    "def my_function(x, /):\n",
    "    print(x)\n",
    "\n",
    "my_function(x = 3)"
   ]
  },
  {
   "cell_type": "markdown",
   "id": "eb72a4d6-357b-4c76-ac1c-b48d687c4fa3",
   "metadata": {},
   "source": [
    "## Keyword - Only Arguments\n",
    "To specify that a function can have only keyword arguments, add _*_, _before_ the argumets:"
   ]
  },
  {
   "cell_type": "code",
   "execution_count": 31,
   "id": "8b49ddd2-fee9-4004-9b9e-6df22d69f758",
   "metadata": {},
   "outputs": [
    {
     "name": "stdout",
     "output_type": "stream",
     "text": [
      "3\n"
     ]
    }
   ],
   "source": [
    "def my_function(*,x):\n",
    "    print(x)\n",
    "\n",
    "my_function(x=3)"
   ]
  },
  {
   "cell_type": "code",
   "execution_count": 32,
   "id": "10c911b0-6ee6-4b2f-8b12-f49f804bcdb9",
   "metadata": {},
   "outputs": [
    {
     "ename": "TypeError",
     "evalue": "my_function() takes 0 positional arguments but 1 was given",
     "output_type": "error",
     "traceback": [
      "\u001b[1;31m---------------------------------------------------------------------------\u001b[0m",
      "\u001b[1;31mTypeError\u001b[0m                                 Traceback (most recent call last)",
      "Cell \u001b[1;32mIn[32], line 4\u001b[0m\n\u001b[0;32m      1\u001b[0m \u001b[38;5;28;01mdef\u001b[39;00m \u001b[38;5;21mmy_function\u001b[39m(\u001b[38;5;241m*\u001b[39m,x):\n\u001b[0;32m      2\u001b[0m     \u001b[38;5;28mprint\u001b[39m(x)\n\u001b[1;32m----> 4\u001b[0m \u001b[43mmy_function\u001b[49m\u001b[43m(\u001b[49m\u001b[38;5;241;43m3\u001b[39;49m\u001b[43m)\u001b[49m\n",
      "\u001b[1;31mTypeError\u001b[0m: my_function() takes 0 positional arguments but 1 was given"
     ]
    }
   ],
   "source": [
    "def my_function(*,x):\n",
    "    print(x)\n",
    "\n",
    "my_function(3)"
   ]
  },
  {
   "cell_type": "markdown",
   "id": "1e7157ae-e7e9-4e75-8873-aba0f09490d5",
   "metadata": {},
   "source": [
    "## Combine Positional-Only and Keyword-Only\n",
    "\n",
    "any arguments before _/_ , are positional-only, and any argument after the *, are keyword-only"
   ]
  },
  {
   "cell_type": "code",
   "execution_count": 33,
   "id": "32101633-9030-4f70-8c5a-ef7a2b69256a",
   "metadata": {},
   "outputs": [
    {
     "name": "stdout",
     "output_type": "stream",
     "text": [
      "26\n"
     ]
    }
   ],
   "source": [
    "def my_function(a, b, /, *, c, d):\n",
    "    print(a+b+c+d)\n",
    "my_function(5, 6, c=7, d=8)"
   ]
  },
  {
   "cell_type": "markdown",
   "id": "b647bf7e-7b12-4190-9ce1-08a342df2881",
   "metadata": {},
   "source": [
    "## Recursion\n",
    "Python also accepts function recursion, which means a defined function can call itself.\n",
    "Recursion is a common mathematical and profgramming concept.\n",
    "it means that a function calls itself.\n",
    "this has the benefit of meaning that you can loop through data to reach a result.\n",
    "\n",
    "we should be careful with recursion as it can be easy to slip into writing a function which never terminates."
   ]
  },
  {
   "cell_type": "code",
   "execution_count": 35,
   "id": "e1d95790-835c-456a-8048-7f8a867c0117",
   "metadata": {},
   "outputs": [
    {
     "name": "stdout",
     "output_type": "stream",
     "text": [
      "Recursion Example Results:\n",
      "1\n",
      "3\n"
     ]
    },
    {
     "data": {
      "text/plain": [
       "3"
      ]
     },
     "execution_count": 35,
     "metadata": {},
     "output_type": "execute_result"
    }
   ],
   "source": [
    "def tri_recursion(k):\n",
    "  if(k > 0):\n",
    "    result = k + tri_recursion(k - 1)\n",
    "    print(result)\n",
    "  else:\n",
    "    result = 0\n",
    "  return result\n",
    "\n",
    "print(\"Recursion Example Results:\")\n",
    "tri_recursion(2)"
   ]
  },
  {
   "cell_type": "code",
   "execution_count": null,
   "id": "09159d89-0a0f-4107-a3cb-98696831495c",
   "metadata": {},
   "outputs": [],
   "source": []
  },
  {
   "cell_type": "code",
   "execution_count": null,
   "id": "3465dfb1-05ea-4e1d-82ef-33aaaa06eecc",
   "metadata": {},
   "outputs": [],
   "source": []
  },
  {
   "cell_type": "code",
   "execution_count": null,
   "id": "8f50a82e-3138-45b7-89ed-a865c33f403f",
   "metadata": {},
   "outputs": [],
   "source": []
  },
  {
   "cell_type": "code",
   "execution_count": null,
   "id": "17974b13-b3a8-41d9-a374-e9cb25bbea39",
   "metadata": {},
   "outputs": [],
   "source": []
  },
  {
   "cell_type": "code",
   "execution_count": null,
   "id": "d3ef51db-ceba-4c1b-a116-d03d8dd58ae3",
   "metadata": {},
   "outputs": [],
   "source": []
  }
 ],
 "metadata": {
  "kernelspec": {
   "display_name": "Python 3 (ipykernel)",
   "language": "python",
   "name": "python3"
  },
  "language_info": {
   "codemirror_mode": {
    "name": "ipython",
    "version": 3
   },
   "file_extension": ".py",
   "mimetype": "text/x-python",
   "name": "python",
   "nbconvert_exporter": "python",
   "pygments_lexer": "ipython3",
   "version": "3.11.4"
  }
 },
 "nbformat": 4,
 "nbformat_minor": 5
}
