{
 "cells": [
  {
   "cell_type": "markdown",
   "id": "0991a459-1789-4d4c-96b7-8e73b5171d50",
   "metadata": {},
   "source": [
    "# Variables"
   ]
  },
  {
   "cell_type": "markdown",
   "id": "d528dd3c-ba31-434a-85ef-41ef0c4207ce",
   "metadata": {},
   "source": [
    "Variables are containers that stores data. Python does not have any commands for declaring variables.\n",
    "To create variables we simply assing a value to it."
   ]
  },
  {
   "cell_type": "code",
   "execution_count": 1,
   "id": "1009a533-749c-4956-9693-890f6a2f9955",
   "metadata": {},
   "outputs": [],
   "source": [
    "age = 21\n",
    "name = 'Mary'"
   ]
  },
  {
   "cell_type": "code",
   "execution_count": 2,
   "id": "b29d4707-22ab-4ee5-a0ba-f01cf0a040d0",
   "metadata": {},
   "outputs": [
    {
     "name": "stdout",
     "output_type": "stream",
     "text": [
      "21\n",
      "Mary\n"
     ]
    }
   ],
   "source": [
    "print(age)\n",
    "print(name)"
   ]
  },
  {
   "cell_type": "markdown",
   "id": "90e6428e-28b4-4f92-9c9b-bc0d1cf2d420",
   "metadata": {},
   "source": [
    "## Printing Variables with texts"
   ]
  },
  {
   "cell_type": "code",
   "execution_count": 4,
   "id": "83477c5f-d67f-4ecf-8a42-2e8c09900bea",
   "metadata": {},
   "outputs": [
    {
     "name": "stdout",
     "output_type": "stream",
     "text": [
      "Mary is 21 years old.\n"
     ]
    }
   ],
   "source": [
    "print(name, \"is\", age, \"years old.\")"
   ]
  },
  {
   "cell_type": "code",
   "execution_count": 5,
   "id": "182da9ca-cc8a-47bb-b677-2a0a5bd581de",
   "metadata": {},
   "outputs": [
    {
     "name": "stdout",
     "output_type": "stream",
     "text": [
      "John is older than Mary. He is 26 years old.\n"
     ]
    }
   ],
   "source": [
    "print(\"John is older than\", name+\". He is\", age + 5, \"years old.\")"
   ]
  },
  {
   "cell_type": "markdown",
   "id": "25a3e919-0cde-4ee7-9dd7-7b0fb04970af",
   "metadata": {},
   "source": [
    "## Reassigning Variables"
   ]
  },
  {
   "cell_type": "code",
   "execution_count": 7,
   "id": "221f769a-c221-4678-9f68-15957797d584",
   "metadata": {},
   "outputs": [],
   "source": [
    "friend_name = name"
   ]
  },
  {
   "cell_type": "code",
   "execution_count": 8,
   "id": "6741c597-dd18-4251-b513-1b4afea9bcb7",
   "metadata": {},
   "outputs": [
    {
     "name": "stdout",
     "output_type": "stream",
     "text": [
      "Mary\n"
     ]
    }
   ],
   "source": [
    "print(friend_name)"
   ]
  },
  {
   "cell_type": "markdown",
   "id": "42343c7f-2d14-4537-8128-1b1f577fd679",
   "metadata": {},
   "source": [
    "## Multiple Variable Assingment with same value"
   ]
  },
  {
   "cell_type": "code",
   "execution_count": 9,
   "id": "4ec653e4-9007-4439-af53-8127159896a4",
   "metadata": {},
   "outputs": [],
   "source": [
    "mary_age = john_age = steve_age =21"
   ]
  },
  {
   "cell_type": "code",
   "execution_count": 12,
   "id": "3147e0a1-fc25-405e-aa88-3b88741b97c3",
   "metadata": {},
   "outputs": [
    {
     "name": "stdout",
     "output_type": "stream",
     "text": [
      "21\n",
      "21\n",
      "21\n"
     ]
    }
   ],
   "source": [
    "print(mary_age)\n",
    "print(john_age)\n",
    "print(steve_age)"
   ]
  },
  {
   "cell_type": "markdown",
   "id": "7a3c58c2-63c1-4526-9845-c223ee664dc2",
   "metadata": {},
   "source": [
    "## Multiple Variable Assingment with different values"
   ]
  },
  {
   "cell_type": "code",
   "execution_count": 16,
   "id": "87a7f88e-910f-43d8-98d8-f6ce4a7d94cf",
   "metadata": {},
   "outputs": [],
   "source": [
    "age, income, name = 21, \"4000\", \"Atul\""
   ]
  },
  {
   "cell_type": "code",
   "execution_count": 17,
   "id": "3ea8faff-057e-48c8-b5c1-bd34a9f857b5",
   "metadata": {},
   "outputs": [
    {
     "name": "stdout",
     "output_type": "stream",
     "text": [
      "Atul is 21 years old and earns $4000.\n"
     ]
    }
   ],
   "source": [
    "print(name, 'is', age, 'years old and earns $'+ income +'.' )"
   ]
  },
  {
   "cell_type": "markdown",
   "id": "3de9cd1a-bd28-48af-b0b6-ab9f1aa97014",
   "metadata": {},
   "source": [
    " # Data Types"
   ]
  },
  {
   "cell_type": "markdown",
   "id": "b667a47c-ef5e-49a1-a2d3-14d79083196a",
   "metadata": {},
   "source": [
    "- String\n",
    "- Numeric\n",
    "    - Integer\n",
    "    - Float\n",
    "    - Complex\n",
    "- Boolean\n",
    "- None\n",
    "- Collection\n",
    "    - List\n",
    "    - Tuple\n",
    "    - Dictionary\n",
    "    - Set      "
   ]
  },
  {
   "cell_type": "code",
   "execution_count": null,
   "id": "7e22a904-3052-476a-9ce7-27919971ae0e",
   "metadata": {},
   "outputs": [],
   "source": []
  }
 ],
 "metadata": {
  "kernelspec": {
   "display_name": "Python 3 (ipykernel)",
   "language": "python",
   "name": "python3"
  },
  "language_info": {
   "codemirror_mode": {
    "name": "ipython",
    "version": 3
   },
   "file_extension": ".py",
   "mimetype": "text/x-python",
   "name": "python",
   "nbconvert_exporter": "python",
   "pygments_lexer": "ipython3",
   "version": "3.11.4"
  }
 },
 "nbformat": 4,
 "nbformat_minor": 5
}
