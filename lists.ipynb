{
 "cells": [
  {
   "cell_type": "markdown",
   "id": "d8b72477-6a45-4f9f-88e0-133dacb4851e",
   "metadata": {},
   "source": [
    "# Python List"
   ]
  },
  {
   "cell_type": "markdown",
   "id": "f1621630-07e3-44a7-b063-9b7170878219",
   "metadata": {},
   "source": [
    "## List\n",
    "- Lists are used to store multiple  items in a single variable\n",
    "- Lists are created using square brackets\n"
   ]
  },
  {
   "cell_type": "code",
   "execution_count": 4,
   "id": "aacd6175-fd1d-4e6b-b4cc-ca05c151d327",
   "metadata": {},
   "outputs": [
    {
     "name": "stdout",
     "output_type": "stream",
     "text": [
      "['apple', 'banana', 'mango']\n"
     ]
    }
   ],
   "source": [
    "# creating a list\n",
    "thislist = [\"apple\", 'banana', 'mango']\n",
    "print(thislist)"
   ]
  },
  {
   "cell_type": "markdown",
   "id": "6959f4c8-a2fd-4873-915b-4cd987f0a31b",
   "metadata": {},
   "source": [
    "## List Items\n",
    "- List Items are *ordered* , *changeable* & allow *duplicate* values.\n",
    "- List Items are indexed and the index starts from [0]\n",
    "\n",
    "_Note_ - There are some _list methods_ that can change ethe order, but in general, the order of items are not changable"
   ]
  },
  {
   "cell_type": "markdown",
   "id": "ef576da5-42e7-4616-8a4e-2be2642b31bf",
   "metadata": {},
   "source": [
    "## Changable\n",
    "The list is changable, meaning that we can change, add and remove items in a list after it has been created"
   ]
  },
  {
   "cell_type": "code",
   "execution_count": 7,
   "id": "c931ab0b-36a7-4e49-8ae7-c385e5a3ea88",
   "metadata": {},
   "outputs": [
    {
     "name": "stdout",
     "output_type": "stream",
     "text": [
      "['apple', 'banana', 'mango']\n"
     ]
    }
   ],
   "source": [
    "# Changing an item in the list\n",
    "my_list = [\"apple\", 'banana', 'mango']\n",
    "print(my_list)"
   ]
  },
  {
   "cell_type": "code",
   "execution_count": 9,
   "id": "e481fdb7-c04f-46ae-89d2-b9bc345115f1",
   "metadata": {},
   "outputs": [
    {
     "name": "stdout",
     "output_type": "stream",
     "text": [
      "['apple', 'blueberry', 'mango']\n"
     ]
    }
   ],
   "source": [
    "my_list[1] = \"blueberry\"\n",
    "print(my_list)"
   ]
  },
  {
   "cell_type": "code",
   "execution_count": 10,
   "id": "8673eee7-f78c-4331-9123-d2ba66522bf5",
   "metadata": {},
   "outputs": [
    {
     "name": "stdout",
     "output_type": "stream",
     "text": [
      "['apple', 'banana', 'mango']\n"
     ]
    }
   ],
   "source": [
    "# adding an _new_ item to the list\n",
    "my_list = [\"apple\", 'banana', 'mango']\n",
    "print(my_list)"
   ]
  },
  {
   "cell_type": "code",
   "execution_count": 11,
   "id": "94fd6861-d54a-4d03-b577-9af4f023dd16",
   "metadata": {},
   "outputs": [
    {
     "name": "stdout",
     "output_type": "stream",
     "text": [
      "['apple', 'banana', 'mango', 'orange']\n"
     ]
    }
   ],
   "source": [
    "my_list.append('orange')\n",
    "print(my_list)"
   ]
  },
  {
   "cell_type": "code",
   "execution_count": 16,
   "id": "4eb9d2b5-bf8e-46cd-b66e-60f418a5009b",
   "metadata": {},
   "outputs": [
    {
     "name": "stdout",
     "output_type": "stream",
     "text": [
      "['apple', 'banana', 'mango']\n"
     ]
    }
   ],
   "source": [
    "# removing an  item from the list\n",
    "my_list = [\"apple\", 'banana', 'mango']\n",
    "print(my_list)"
   ]
  },
  {
   "cell_type": "code",
   "execution_count": 17,
   "id": "affa8b09-33bc-483a-a9ee-21baecf67270",
   "metadata": {},
   "outputs": [
    {
     "name": "stdout",
     "output_type": "stream",
     "text": [
      "['apple', 'banana']\n"
     ]
    }
   ],
   "source": [
    "my_list.remove('mango')\n",
    "print(my_list)"
   ]
  },
  {
   "cell_type": "markdown",
   "id": "2bb292ce-3df3-4814-abbc-9884ec4e9cbf",
   "metadata": {},
   "source": [
    "## Allows duplicate\n",
    "Since the lists are indexed, lists can have items with the same value"
   ]
  },
  {
   "cell_type": "code",
   "execution_count": 18,
   "id": "9659c2a4-af07-41dc-bbe9-4f8ba0cb982a",
   "metadata": {},
   "outputs": [
    {
     "name": "stdout",
     "output_type": "stream",
     "text": [
      "['apple', 'banana', 'mango', 'apple']\n"
     ]
    }
   ],
   "source": [
    "# adding an duplicate items to the list\n",
    "my_list = [\"apple\", 'banana', 'mango', 'apple']\n",
    "print(my_list)"
   ]
  },
  {
   "cell_type": "markdown",
   "id": "2bd51108-36d9-4e10-b6d5-c2886011da04",
   "metadata": {},
   "source": [
    "## List Lenght\n",
    "\n",
    "**len()** function is used to determine the number of items in a list"
   ]
  },
  {
   "cell_type": "code",
   "execution_count": 19,
   "id": "9a636204-0d81-456f-a64c-d855bede4e36",
   "metadata": {},
   "outputs": [
    {
     "name": "stdout",
     "output_type": "stream",
     "text": [
      "4\n"
     ]
    }
   ],
   "source": [
    "this_list = ['apple', 'mango', 'banana', 'papaya']\n",
    "print(len(this_list))"
   ]
  },
  {
   "cell_type": "markdown",
   "id": "c5addd6d-6dfc-4d14-8062-e7ed7ae1f7fa",
   "metadata": {},
   "source": [
    "## Data types of the list items\n",
    "List items can be of any data type and a single list can have multiple data type"
   ]
  },
  {
   "cell_type": "code",
   "execution_count": 21,
   "id": "2a8525b2-955f-4ee9-b657-66f5209760c0",
   "metadata": {},
   "outputs": [],
   "source": [
    "list1 = ['apple', 'banana', 'cherry']\n",
    "list2 = [1,2,3]\n",
    "list3 = [True, False, True]\n",
    "list4 = ['apple', 2, True]"
   ]
  },
  {
   "cell_type": "code",
   "execution_count": 23,
   "id": "dc992d53-35ed-4a6b-b790-21de16525445",
   "metadata": {},
   "outputs": [
    {
     "name": "stdout",
     "output_type": "stream",
     "text": [
      "['apple', 'banana', 'cherry'] [1, 2, 3] [True, False, True] ['apple', 2, True]\n"
     ]
    }
   ],
   "source": [
    "print(list1, list2, list3, list4)"
   ]
  },
  {
   "cell_type": "markdown",
   "id": "6a1c6eaa-6fc2-46bf-b01b-5fc5d37545e4",
   "metadata": {},
   "source": [
    "## The list() Constructor\n",
    "it is possible to use the list() constructor when creating a new list"
   ]
  },
  {
   "cell_type": "code",
   "execution_count": 25,
   "id": "54840bab-d31e-482a-bafa-584c23d5e5dc",
   "metadata": {},
   "outputs": [],
   "source": [
    "thislist = list(('apple','banana','orange','cherry'))"
   ]
  },
  {
   "cell_type": "code",
   "execution_count": 27,
   "id": "6c646448-26e0-4c53-b7c1-0e28db4da8fe",
   "metadata": {},
   "outputs": [
    {
     "name": "stdout",
     "output_type": "stream",
     "text": [
      "['apple', 'banana', 'orange', 'cherry']\n"
     ]
    }
   ],
   "source": [
    "print(thislist)"
   ]
  },
  {
   "cell_type": "markdown",
   "id": "961a8e04-7d28-4a94-bc5f-e370ab1c533f",
   "metadata": {},
   "source": [
    "# Access List Items\n",
    "- List items are indexed\n",
    "- List items can be accessed by referring to the index number"
   ]
  },
  {
   "cell_type": "code",
   "execution_count": 2,
   "id": "fb514d3a-b901-4858-8fe5-06334f0a02b3",
   "metadata": {},
   "outputs": [
    {
     "name": "stdout",
     "output_type": "stream",
     "text": [
      "banana\n"
     ]
    }
   ],
   "source": [
    "#print 2nd item in the list(list index starts from 0)\n",
    "\n",
    "list1 = ['apple', 'banana', 'cherry']\n",
    "print(list1[1])"
   ]
  },
  {
   "cell_type": "markdown",
   "id": "bb1b2334-5766-4a49-b81e-8d8d06d645c3",
   "metadata": {},
   "source": [
    "## Negative Indexing\n",
    "Negative Indexing is just starting the index from behind"
   ]
  },
  {
   "cell_type": "code",
   "execution_count": 4,
   "id": "1aecb139-7dc4-472b-9cb0-0bcce75f2110",
   "metadata": {},
   "outputs": [
    {
     "name": "stdout",
     "output_type": "stream",
     "text": [
      "cherry\n"
     ]
    }
   ],
   "source": [
    "# print last item from the list using negative indexing \n",
    "this_list = ['apple', 'banana', 'cherry']\n",
    "print(this_list[-1])"
   ]
  },
  {
   "cell_type": "markdown",
   "id": "f188a3c8-ffcc-4a5c-91ca-c9d1db72f96a",
   "metadata": {},
   "source": [
    "## Range of indexes\n",
    "A range can be specified from where to start and where to end, the value(s) returned will be a new list with specified items."
   ]
  },
  {
   "cell_type": "code",
   "execution_count": 6,
   "id": "6bd4f4c5-1145-4425-bcf0-2d9f45814709",
   "metadata": {},
   "outputs": [
    {
     "name": "stdout",
     "output_type": "stream",
     "text": [
      "['cherry', 'orange', 'melon']\n"
     ]
    }
   ],
   "source": [
    "#return the 3rd, 4th & 5th item\n",
    "this_list = ['apple', 'banana', 'cherry', 'orange', 'melon', 'kiwi']\n",
    "print(this_list[2:5])  # note: the search will start at index 2(included) and end at index 5 (excluded) 1st item has end index 0"
   ]
  },
  {
   "cell_type": "markdown",
   "id": "5e62c3ff-7362-462e-9d80-a5b5fc2e4bec",
   "metadata": {},
   "source": [
    "### By leaving out the start value the range will start at the first item"
   ]
  },
  {
   "cell_type": "code",
   "execution_count": 9,
   "id": "330eab01-6c2c-4696-803e-b15cfdf2025d",
   "metadata": {},
   "outputs": [
    {
     "name": "stdout",
     "output_type": "stream",
     "text": [
      "['apple', 'banana', 'cherry', 'orange']\n"
     ]
    }
   ],
   "source": [
    "# Return the items from the list, starting from the beginning to, but not including \"kiwi\"\n",
    "this_list = ['apple','banana', 'cherry', 'orange', 'kiwi', 'melon', 'mango' ]\n",
    "print(this_list[:4])"
   ]
  },
  {
   "cell_type": "markdown",
   "id": "e8b1d3a0-c63a-4659-ae5c-a71b2451eeaf",
   "metadata": {},
   "source": [
    "## Range of Negative Index"
   ]
  },
  {
   "cell_type": "code",
   "execution_count": 13,
   "id": "fc64b415-c035-42ea-9955-b39d24d0d3d8",
   "metadata": {},
   "outputs": [
    {
     "name": "stdout",
     "output_type": "stream",
     "text": [
      "['orange', 'kiwi', 'melon']\n"
     ]
    }
   ],
   "source": [
    "# retrun the the item 'orange' (-4) to, but not including 'mango' (-1)\n",
    "this_list = ['apple','banana', 'cherry', 'orange', 'kiwi', 'melon', 'mango' ]\n",
    "print(this_list[-4:-1])"
   ]
  },
  {
   "cell_type": "markdown",
   "id": "04f3787c-be54-4dba-be98-9b85b8112bae",
   "metadata": {},
   "source": [
    "## Check if Item Exists:"
   ]
  },
  {
   "cell_type": "code",
   "execution_count": 15,
   "id": "ce4dd63c-1a85-46f0-a164-e1ccd52030e9",
   "metadata": {},
   "outputs": [
    {
     "name": "stdout",
     "output_type": "stream",
     "text": [
      "yes, apple is in the fruits list\n"
     ]
    }
   ],
   "source": [
    "this_list = ['apple','banana', 'cherry', 'orange', 'kiwi', 'melon', 'mango' ]\n",
    "if 'apple' in this_list:\n",
    "    print('yes, apple is in the fruits list')"
   ]
  },
  {
   "cell_type": "markdown",
   "id": "7caf8aa7-d514-41f7-ac1a-5ef9974f07eb",
   "metadata": {},
   "source": [
    "## Change Item Values\n",
    "we can change the value of a specefic item by refering to the index number"
   ]
  },
  {
   "cell_type": "code",
   "execution_count": 16,
   "id": "26b4230d-3215-4b61-bad2-42f735ac5bde",
   "metadata": {},
   "outputs": [
    {
     "name": "stdout",
     "output_type": "stream",
     "text": [
      "['apple', 'black currant', 'cherry']\n"
     ]
    }
   ],
   "source": [
    "this_list = ['apple','banana', 'cherry'] \n",
    "this_list[1] = 'black currant'\n",
    "print(this_list)"
   ]
  },
  {
   "cell_type": "markdown",
   "id": "f9abf07d-c9ef-40bc-883c-fdd43815835d",
   "metadata": {},
   "source": [
    "## changing a range of item values \n",
    "to change the values of items with a specefic range\n",
    "- define a list with new values\n",
    "- refer to the range of index numbers where you want to insert the new values"
   ]
  },
  {
   "cell_type": "code",
   "execution_count": 23,
   "id": "0d431eac-7540-4df3-83b8-800d6c3a5ce2",
   "metadata": {},
   "outputs": [
    {
     "name": "stdout",
     "output_type": "stream",
     "text": [
      "['apple', 'black currant', 'watermelon', 'orange', 'kiwi', 'melon', 'mango']\n"
     ]
    }
   ],
   "source": [
    "#change the values 'banana' & 'cherry' to the values 'black currant' and 'water melon'\n",
    "this_list = ['apple','banana', 'cherry', 'orange', 'kiwi', 'melon', 'mango' ]\n",
    "this_list[1:3] = 'black currant','watermelon'\n",
    "print(this_list)"
   ]
  },
  {
   "cell_type": "code",
   "execution_count": 33,
   "id": "ccb87195-ea8d-4b66-8a91-bd6565667e71",
   "metadata": {},
   "outputs": [],
   "source": [
    "## Note: If you insert more items than you replace, the new items will be inserted where you specified, and the remaining items will move accordingly:"
   ]
  },
  {
   "cell_type": "code",
   "execution_count": 32,
   "id": "3ede68c3-3923-45a8-9ad5-ffcccbf48539",
   "metadata": {},
   "outputs": [
    {
     "name": "stdout",
     "output_type": "stream",
     "text": [
      "['apple', 'black currant', 'orange', 'pineapple', 'cherry']\n"
     ]
    }
   ],
   "source": [
    "# Change the 2nd value by replacing it with two new values\n",
    "this_list = ['apple', 'banana', 'cherry']\n",
    "this_list[1:2] = ('black currant', 'orange','pineapple')\n",
    "print(this_list)"
   ]
  },
  {
   "cell_type": "code",
   "execution_count": 34,
   "id": "8208863e-f245-494e-be19-c364447fab1d",
   "metadata": {},
   "outputs": [],
   "source": [
    "##If you insert more items than you replace, the new items will be inserted where you specified, and the remaining items will move accordingly:"
   ]
  },
  {
   "cell_type": "code",
   "execution_count": 36,
   "id": "46976813-ff30-472b-9a33-38d422e662d3",
   "metadata": {},
   "outputs": [
    {
     "name": "stdout",
     "output_type": "stream",
     "text": [
      "['apple', 'watermelon']\n"
     ]
    }
   ],
   "source": [
    "thislist = ['apple', 'banana','cherry']\n",
    "thislist[1:3] = ['watermelon']\n",
    "print(thislist)"
   ]
  },
  {
   "cell_type": "markdown",
   "id": "90dda70a-e475-40f5-bfcb-ffc44522b555",
   "metadata": {},
   "source": [
    "## Insert Items\n",
    "To insert a new item, without replacing any of the existing values, we can use the insert() method\n",
    "- the 'insert()' method inserts the item at a specified index-"
   ]
  },
  {
   "cell_type": "code",
   "execution_count": 38,
   "id": "b8f8013d-c8cb-4cfb-81f9-4ec46803883a",
   "metadata": {},
   "outputs": [
    {
     "name": "stdout",
     "output_type": "stream",
     "text": [
      "['apple', 'banana', 'watermelon', 'cherry']\n"
     ]
    }
   ],
   "source": [
    "# insert 'watermelon' as the third item\n",
    "thislist = ['apple', 'banana', 'cherry']\n",
    "thislist.insert(2, 'watermelon')\n",
    "print(thislist)"
   ]
  },
  {
   "cell_type": "markdown",
   "id": "58d2c399-7108-43bf-804d-bc33308c6771",
   "metadata": {},
   "source": [
    "## Append List Items\n",
    "To add an item to end of the list, we use 'append()' method"
   ]
  },
  {
   "cell_type": "code",
   "execution_count": 2,
   "id": "5b1e5602-9311-4985-8b28-07a02e992e51",
   "metadata": {},
   "outputs": [
    {
     "name": "stdout",
     "output_type": "stream",
     "text": [
      "['apple', 'banana', 'cherry', 'orange']\n"
     ]
    }
   ],
   "source": [
    "# using 'append()' method to append an item:\n",
    "thislist = ['apple', 'banana', 'cherry']\n",
    "thislist.append('orange')\n",
    "print(thislist)"
   ]
  },
  {
   "cell_type": "code",
   "execution_count": 3,
   "id": "ced7c02d-1e6f-425a-937f-6465a6365ef1",
   "metadata": {},
   "outputs": [
    {
     "name": "stdout",
     "output_type": "stream",
     "text": [
      "['apple', 'banana', 'cherry', 'mango', 'pineapple', 'papaya']\n"
     ]
    }
   ],
   "source": [
    "## Extend List Items\n",
    "thislist = ['apple', 'banana', 'cherry']\n",
    "tropical = ['mango','pineapple','papaya']\n",
    "thislist.extend(tropical)\n",
    "print(thislist)"
   ]
  },
  {
   "cell_type": "markdown",
   "id": "78dde423-456c-4c74-8865-cef20fe4fe63",
   "metadata": {},
   "source": [
    "## note:\n",
    "the extend() method does not have to just append lists(), it can be used to append any iterable objects, i.e., tuples, sets, dictionaries etc"
   ]
  },
  {
   "cell_type": "code",
   "execution_count": 7,
   "id": "af09d8fc-f389-47cd-85ba-2a168bd6b6c8",
   "metadata": {},
   "outputs": [
    {
     "name": "stdout",
     "output_type": "stream",
     "text": [
      "['apple', 'banana', 'cherry', 'kiwi', 'orange']\n"
     ]
    }
   ],
   "source": [
    "# add elements of a tup;e to a list\n",
    "thislist = ['apple', 'banana','cherry']\n",
    "thistuple = ('kiwi', 'orange')\n",
    "thislist.extend(thistuple)\n",
    "print(thislist)"
   ]
  },
  {
   "cell_type": "markdown",
   "id": "e4324099-d77f-407f-a498-45a0ca6d7297",
   "metadata": {},
   "source": [
    "## Remove List items\n",
    "The remove() method removes the specified item"
   ]
  },
  {
   "cell_type": "code",
   "execution_count": 9,
   "id": "c50339af-dc64-4f0f-bc89-7836d4d92750",
   "metadata": {},
   "outputs": [
    {
     "name": "stdout",
     "output_type": "stream",
     "text": [
      "['apple', 'cherry']\n"
     ]
    }
   ],
   "source": [
    "# Remove 'banana' from the list\n",
    "thislist = ['apple','banana','cherry']\n",
    "thislist.remove('banana')\n",
    "print(thislist)"
   ]
  },
  {
   "cell_type": "code",
   "execution_count": 10,
   "id": "938cad45-182e-4550-a5f8-f81adf11fa16",
   "metadata": {},
   "outputs": [
    {
     "name": "stdout",
     "output_type": "stream",
     "text": [
      "['apple', 'cherry', 'banana']\n"
     ]
    }
   ],
   "source": [
    "#note: if there are multiple occurance of the specefied item, remove() will only remove the first occurance\n",
    "thislist = ['apple', 'banana', 'cherry', 'banana']\n",
    "thislist.remove('banana')\n",
    "print(thislist)"
   ]
  },
  {
   "cell_type": "markdown",
   "id": "462d3f6e-f6d8-4cd1-90bb-2a9dd587443b",
   "metadata": {},
   "source": [
    "## Removing items from the specefied index\n",
    "the _pop()_ method, removes the item from the specefied index \n"
   ]
  },
  {
   "cell_type": "code",
   "execution_count": 15,
   "id": "945db451-fb61-4a23-92ff-24d0e0cc1628",
   "metadata": {},
   "outputs": [
    {
     "name": "stdout",
     "output_type": "stream",
     "text": [
      "['apple', 'cherry']\n"
     ]
    }
   ],
   "source": [
    "#Remove the 2nd item from the list\n",
    "thislist = [\"apple\", \"banana\", \"cherry\"]\n",
    "thislist.pop(1)\n",
    "print(thislist)"
   ]
  },
  {
   "cell_type": "code",
   "execution_count": 16,
   "id": "e2f3e816-8d38-48e4-85e4-30572be8d5ba",
   "metadata": {},
   "outputs": [
    {
     "name": "stdout",
     "output_type": "stream",
     "text": [
      "['apple', 'banana']\n"
     ]
    }
   ],
   "source": [
    "#note: if the index is not specified, 'pop()' wull remove the last item\n",
    "thislist = [\"apple\", \"banana\", \"cherry\"]\n",
    "thislist.pop()\n",
    "print(thislist)"
   ]
  },
  {
   "cell_type": "markdown",
   "id": "d30b7215-0a62-4955-a342-4e029b2125b6",
   "metadata": {},
   "source": [
    "### del keyword"
   ]
  },
  {
   "cell_type": "code",
   "execution_count": 20,
   "id": "049d2ab5-744e-437a-b912-6e282f4fbb94",
   "metadata": {},
   "outputs": [
    {
     "name": "stdout",
     "output_type": "stream",
     "text": [
      "['banana', 'cherry']\n"
     ]
    }
   ],
   "source": [
    "#similar to pop(), we can use del keyword to remove the specified item\n",
    "thislist = [\"apple\", \"banana\", \"cherry\"]\n",
    "del thislist[0]\n",
    "print(thislist)\n"
   ]
  },
  {
   "cell_type": "code",
   "execution_count": 21,
   "id": "511a2f1a-56d1-4af6-8f98-7e56428493b0",
   "metadata": {},
   "outputs": [],
   "source": [
    "# note 'del' keyword can also delete the list completely.\n",
    "del thislist"
   ]
  },
  {
   "cell_type": "markdown",
   "id": "e9e8e107-e6d1-47a9-a625-44ebb051d49e",
   "metadata": {},
   "source": [
    "## Clear the list\n",
    "the clear() method empties the list\n",
    "the list still remains, but it has not content"
   ]
  },
  {
   "cell_type": "code",
   "execution_count": 23,
   "id": "0cd1f648-517a-47a9-9a9a-86069fa16b4b",
   "metadata": {},
   "outputs": [
    {
     "name": "stdout",
     "output_type": "stream",
     "text": [
      "[]\n"
     ]
    }
   ],
   "source": [
    "thislist = [\"apple\", \"banana\", \"cherry\"]\n",
    "thislist.clear() \n",
    "print(thislist)"
   ]
  },
  {
   "cell_type": "markdown",
   "id": "0101574d-3bbf-4f18-a9cf-24ecfa4f08dc",
   "metadata": {},
   "source": [
    "## Loop through list\n",
    "- lists can be looped by using _for_ loop"
   ]
  },
  {
   "cell_type": "code",
   "execution_count": 28,
   "id": "27cd4d08-2cd0-4c04-b790-15dfecce258b",
   "metadata": {},
   "outputs": [
    {
     "name": "stdout",
     "output_type": "stream",
     "text": [
      "apple\n",
      "banana\n",
      "cherry\n"
     ]
    }
   ],
   "source": [
    "# print all the items in the list one by one\n",
    "thislist = [\"apple\", \"banana\", \"cherry\"]\n",
    "for x in thislist:\n",
    "    print(x)"
   ]
  },
  {
   "cell_type": "markdown",
   "id": "85198105-e46d-4ccc-906b-11263665b0a8",
   "metadata": {},
   "source": [
    "## Loop through the index number\n",
    "- we can also loop through the list by using their index number\n",
    "- use the range() & len() functions to create a suitable iterabale"
   ]
  },
  {
   "cell_type": "code",
   "execution_count": 44,
   "id": "642b9749-e650-40dd-94af-52fc15a4e8ff",
   "metadata": {},
   "outputs": [
    {
     "name": "stdout",
     "output_type": "stream",
     "text": [
      "0 apple\n",
      "1 banana\n",
      "2 cherry\n"
     ]
    }
   ],
   "source": [
    "## print all the items by referring to their index number\n",
    "thislist = [\"apple\", \"banana\", \"cherry\"]\n",
    "for i in range(len(thislist)):\n",
    "    print(i, thislist[i])"
   ]
  },
  {
   "cell_type": "code",
   "execution_count": 32,
   "id": "3c21ea2c-e5cd-4f3c-a2d0-80aab88c8cff",
   "metadata": {},
   "outputs": [
    {
     "data": {
      "text/plain": [
       "3"
      ]
     },
     "execution_count": 32,
     "metadata": {},
     "output_type": "execute_result"
    }
   ],
   "source": [
    "len(thislist)"
   ]
  },
  {
   "cell_type": "code",
   "execution_count": 35,
   "id": "fb10f7ff-0626-4039-8ca6-c57a37228f5e",
   "metadata": {},
   "outputs": [
    {
     "data": {
      "text/plain": [
       "range(0, 3)"
      ]
     },
     "execution_count": 35,
     "metadata": {},
     "output_type": "execute_result"
    }
   ],
   "source": [
    "range(3)"
   ]
  },
  {
   "cell_type": "code",
   "execution_count": 40,
   "id": "a050f187-ff03-43e7-bcfe-7988abcd9896",
   "metadata": {},
   "outputs": [
    {
     "name": "stdout",
     "output_type": "stream",
     "text": [
      "apple\n",
      "banana\n",
      "cherry\n"
     ]
    }
   ],
   "source": [
    "for i in range(len(thislist)):\n",
    "    print(thislist[i])"
   ]
  },
  {
   "cell_type": "markdown",
   "id": "7ec8439e-c9b2-4e2a-84e3-5ef844ce1ea1",
   "metadata": {},
   "source": [
    "## Looping using a while loop\n",
    "- a list can be looped using a _while_ loop as well\n",
    "- _len()_ function is used to determine the length of the list, then it starts at 0 & loops its way through the list item by referring to the indexes\n",
    "- it is important to increment the index by 1 after each loop"
   ]
  },
  {
   "cell_type": "code",
   "execution_count": 50,
   "id": "23de1c9a-408a-455d-943d-6eeafc2a812e",
   "metadata": {},
   "outputs": [
    {
     "name": "stdout",
     "output_type": "stream",
     "text": [
      "apple\n",
      "banana\n",
      "cherry\n"
     ]
    }
   ],
   "source": [
    "# use a while loop to go through all the index numbers\n",
    "thislist = [\"apple\", \"banana\", \"cherry\"]\n",
    "i = 0\n",
    "while i < len(thislist):\n",
    "    print(thislist[i])\n",
    "    i = i + 1"
   ]
  },
  {
   "cell_type": "code",
   "execution_count": 52,
   "id": "76f0c2f6-223d-4ccb-ab20-a0eb264eddd8",
   "metadata": {},
   "outputs": [
    {
     "name": "stdout",
     "output_type": "stream",
     "text": [
      "['apple', 'mango', 'banana']\n"
     ]
    }
   ],
   "source": [
    "# using for loop\n",
    "fruits = ['apple', 'mango', 'banana', 'cherry']\n",
    "newlist = []\n",
    "for x in fruits:\n",
    "    if 'a' in x:\n",
    "        newlist.append(x)\n",
    "\n",
    "print(newlist)\n",
    "        "
   ]
  },
  {
   "cell_type": "code",
   "execution_count": 57,
   "id": "710c2958-36c7-4b69-be8d-9534dd520163",
   "metadata": {},
   "outputs": [
    {
     "name": "stdout",
     "output_type": "stream",
     "text": [
      "['apple', 'mango', 'banana']\n"
     ]
    }
   ],
   "source": [
    "# using List Comprehension\n",
    "fruits = ['apple', 'mango', 'banana', 'cherry']\n",
    "\n",
    "newlist = [x for x in fruits if \"a\" in x]\n",
    "print(newlist)"
   ]
  },
  {
   "cell_type": "markdown",
   "id": "884fd346-0afd-4e92-93bd-bfc2ccd45f53",
   "metadata": {},
   "source": [
    "## Sorting a list Alphanumerically\n",
    "-sort method can sort a list alphanumerically, ascending by default"
   ]
  },
  {
   "cell_type": "code",
   "execution_count": 59,
   "id": "bef3e33d-b3fc-4024-82b8-fb629e97de33",
   "metadata": {},
   "outputs": [
    {
     "name": "stdout",
     "output_type": "stream",
     "text": [
      "['apple', 'banana', 'mango', 'orange', 'pineapple']\n"
     ]
    }
   ],
   "source": [
    "# sort alphabeticaly\n",
    "thislist = ['orange', 'apple', 'mango', 'pineapple', 'banana']\n",
    "thislist.sort()\n",
    "print(thislist)"
   ]
  },
  {
   "cell_type": "code",
   "execution_count": 61,
   "id": "73e2068a-a8c8-4156-9e69-bdaf48202dc4",
   "metadata": {},
   "outputs": [
    {
     "name": "stdout",
     "output_type": "stream",
     "text": [
      "['pineapple', 'orange', 'mango', 'banana', 'apple']\n"
     ]
    }
   ],
   "source": [
    "thislist.sort(reverse = True)\n",
    "print(thislist)"
   ]
  },
  {
   "cell_type": "code",
   "execution_count": null,
   "id": "a92fc110-f639-459e-9a06-73050c22fe03",
   "metadata": {},
   "outputs": [],
   "source": [
    "## Copy list\n",
    "One can not just copy a list by simply typing list1 = list2, as list2 will only be a 'reference' to list1 and any changes made in any one of them will reflect in both of them.\n",
    "copy() method is used to copy a list in python"
   ]
  },
  {
   "cell_type": "code",
   "execution_count": 62,
   "id": "50c4e32d-4d1d-447f-bac9-65d0fd420eb3",
   "metadata": {},
   "outputs": [
    {
     "name": "stdout",
     "output_type": "stream",
     "text": [
      "['apple', 'orange', 'banana']\n"
     ]
    }
   ],
   "source": [
    "# make a copy of a list with copy()\n",
    "thislist = ['apple', 'orange', 'banana']\n",
    "mylist = thislist.copy()\n",
    "print(mylist)"
   ]
  },
  {
   "cell_type": "code",
   "execution_count": 63,
   "id": "3d656684-4672-48a1-92d7-5805464dd328",
   "metadata": {},
   "outputs": [
    {
     "name": "stdout",
     "output_type": "stream",
     "text": [
      "['apple', 'orange', 'banana']\n"
     ]
    }
   ],
   "source": [
    "#list() method\n",
    "mylist2 = list(thislist)\n",
    "print(mylist2)"
   ]
  },
  {
   "cell_type": "code",
   "execution_count": 65,
   "id": "4954775e-3eda-4a4a-b151-b91c40ba6fc5",
   "metadata": {},
   "outputs": [
    {
     "name": "stdout",
     "output_type": "stream",
     "text": [
      "['apple', 'orange', 'banana']\n"
     ]
    }
   ],
   "source": [
    "#using slice ':' operator\n",
    "mylist3 =  thislist[:]\n",
    "print(mylist3)"
   ]
  },
  {
   "cell_type": "markdown",
   "id": "34637cb2-6bac-4908-97ea-d2d2363b1e48",
   "metadata": {},
   "source": [
    "# Joining two lists\n",
    "two lists can be joined using several methods"
   ]
  },
  {
   "cell_type": "code",
   "execution_count": 66,
   "id": "64b4ae21-8380-461d-8480-762922a4f9a8",
   "metadata": {},
   "outputs": [
    {
     "name": "stdout",
     "output_type": "stream",
     "text": [
      "['a', 'b', 'c', 1, 2, 3]\n"
     ]
    }
   ],
   "source": [
    "# + operator\n",
    "list1 = ['a','b','c']\n",
    "list2 = [1,2,3]\n",
    "list3 = list1+list2\n",
    "print(list3)"
   ]
  },
  {
   "cell_type": "code",
   "execution_count": 67,
   "id": "30ddb9eb-ae4b-4f96-8b9c-e9b931fc3b85",
   "metadata": {},
   "outputs": [
    {
     "name": "stdout",
     "output_type": "stream",
     "text": [
      "['a', 'b', 'c', 1, 2, 3]\n"
     ]
    }
   ],
   "source": [
    "# append\n",
    "for x in list2:\n",
    "    list1.append(x)\n",
    "\n",
    "print(list1)"
   ]
  },
  {
   "cell_type": "code",
   "execution_count": 68,
   "id": "79b07c12-653a-40df-b4e2-3eb0cfe1cfc9",
   "metadata": {},
   "outputs": [
    {
     "name": "stdout",
     "output_type": "stream",
     "text": [
      "['a', 'b', 'c', 1, 2, 3]\n"
     ]
    }
   ],
   "source": [
    "# using extend()\n",
    "list1 = [\"a\", \"b\" , \"c\"]\n",
    "list2 = [1, 2, 3]\n",
    "\n",
    "list1.extend(list2)\n",
    "print(list1)"
   ]
  },
  {
   "cell_type": "code",
   "execution_count": null,
   "id": "83d4f159-c516-4559-b09b-85b55f267dc9",
   "metadata": {},
   "outputs": [],
   "source": []
  },
  {
   "cell_type": "code",
   "execution_count": null,
   "id": "841de32f-9ecc-4010-9826-13c097ed8374",
   "metadata": {},
   "outputs": [],
   "source": []
  },
  {
   "cell_type": "code",
   "execution_count": null,
   "id": "5a80452e-d31f-4b3f-b5a8-4e7f517ce119",
   "metadata": {},
   "outputs": [],
   "source": []
  },
  {
   "cell_type": "code",
   "execution_count": null,
   "id": "e3951a05-ebe4-467d-8565-a48b35f7b82e",
   "metadata": {},
   "outputs": [],
   "source": []
  },
  {
   "cell_type": "markdown",
   "id": "e5a797b1-e4a9-4d24-92b0-627adb391b6b",
   "metadata": {},
   "source": [
    "### List Methods in Python\n",
    "\n",
    "Python has a set of built-in methods that you can use on lists:\n",
    "\n",
    "| Method      | Description                                                                 |\n",
    "|-------------|-----------------------------------------------------------------------------|\n",
    "| `append()`  | Adds an element at the end of the list                                      |\n",
    "| `clear()`   | Removes all the elements from the list                                      |\n",
    "| `copy()`    | Returns a copy of the list                                                  |\n",
    "| `count()`   | Returns the number of elements with the specified value                     |\n",
    "| `extend()`  | Adds the elements of a list (or any iterable) to the end of the current list|\n",
    "| `index()`   | Returns the index of the first element with the specified value             |\n",
    "| `insert()`  | Adds an element at the specified position                                   |\n",
    "| `pop()`     | Removes the element at the specified position                               |\n",
    "| `remove()`  | Removes the item with the specified value                                   |\n",
    "| `reverse()` | Reverses the order of the list                                              |\n",
    "| `sort()`    | Sorts the list                                                              |\n"
   ]
  },
  {
   "cell_type": "code",
   "execution_count": null,
   "id": "7ae8a29f-5d40-4a05-b979-547dfea53fd4",
   "metadata": {},
   "outputs": [],
   "source": []
  }
 ],
 "metadata": {
  "kernelspec": {
   "display_name": "Python 3 (ipykernel)",
   "language": "python",
   "name": "python3"
  },
  "language_info": {
   "codemirror_mode": {
    "name": "ipython",
    "version": 3
   },
   "file_extension": ".py",
   "mimetype": "text/x-python",
   "name": "python",
   "nbconvert_exporter": "python",
   "pygments_lexer": "ipython3",
   "version": "3.11.4"
  }
 },
 "nbformat": 4,
 "nbformat_minor": 5
}
