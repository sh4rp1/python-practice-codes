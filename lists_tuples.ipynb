{
 "cells": [
  {
   "cell_type": "markdown",
   "id": "d8b72477-6a45-4f9f-88e0-133dacb4851e",
   "metadata": {},
   "source": [
    "# Python List"
   ]
  },
  {
   "cell_type": "markdown",
   "id": "f1621630-07e3-44a7-b063-9b7170878219",
   "metadata": {},
   "source": [
    "## List\n",
    "- Lists are used to store multiple  items in a single variable\n",
    "- Lists are created using square brackets\n"
   ]
  },
  {
   "cell_type": "code",
   "execution_count": 4,
   "id": "aacd6175-fd1d-4e6b-b4cc-ca05c151d327",
   "metadata": {},
   "outputs": [
    {
     "name": "stdout",
     "output_type": "stream",
     "text": [
      "['apple', 'banana', 'mango']\n"
     ]
    }
   ],
   "source": [
    "# creating a list\n",
    "thislist = [\"apple\", 'banana', 'mango']\n",
    "print(thislist)"
   ]
  },
  {
   "cell_type": "markdown",
   "id": "6959f4c8-a2fd-4873-915b-4cd987f0a31b",
   "metadata": {},
   "source": [
    "## List Items\n",
    "- List Items are *ordered* , *changeable* & allow *duplicate* values.\n",
    "- List Items are indexed and the index starts from [0]\n",
    "\n",
    "_Note_ - There are some _list methods_ that can change ethe order, but in general, the order of items are not changable"
   ]
  },
  {
   "cell_type": "markdown",
   "id": "ef576da5-42e7-4616-8a4e-2be2642b31bf",
   "metadata": {},
   "source": [
    "## Changable\n",
    "The list is changable, meaning that we can change, add and remove items in a list after it has been created"
   ]
  },
  {
   "cell_type": "code",
   "execution_count": 7,
   "id": "c931ab0b-36a7-4e49-8ae7-c385e5a3ea88",
   "metadata": {},
   "outputs": [
    {
     "name": "stdout",
     "output_type": "stream",
     "text": [
      "['apple', 'banana', 'mango']\n"
     ]
    }
   ],
   "source": [
    "# Changing an item in the list\n",
    "my_list = [\"apple\", 'banana', 'mango']\n",
    "print(my_list)"
   ]
  },
  {
   "cell_type": "code",
   "execution_count": 9,
   "id": "e481fdb7-c04f-46ae-89d2-b9bc345115f1",
   "metadata": {},
   "outputs": [
    {
     "name": "stdout",
     "output_type": "stream",
     "text": [
      "['apple', 'blueberry', 'mango']\n"
     ]
    }
   ],
   "source": [
    "my_list[1] = \"blueberry\"\n",
    "print(my_list)"
   ]
  },
  {
   "cell_type": "code",
   "execution_count": 10,
   "id": "8673eee7-f78c-4331-9123-d2ba66522bf5",
   "metadata": {},
   "outputs": [
    {
     "name": "stdout",
     "output_type": "stream",
     "text": [
      "['apple', 'banana', 'mango']\n"
     ]
    }
   ],
   "source": [
    "# adding an _new_ item to the list\n",
    "my_list = [\"apple\", 'banana', 'mango']\n",
    "print(my_list)"
   ]
  },
  {
   "cell_type": "code",
   "execution_count": 11,
   "id": "94fd6861-d54a-4d03-b577-9af4f023dd16",
   "metadata": {},
   "outputs": [
    {
     "name": "stdout",
     "output_type": "stream",
     "text": [
      "['apple', 'banana', 'mango', 'orange']\n"
     ]
    }
   ],
   "source": [
    "my_list.append('orange')\n",
    "print(my_list)"
   ]
  },
  {
   "cell_type": "code",
   "execution_count": 16,
   "id": "4eb9d2b5-bf8e-46cd-b66e-60f418a5009b",
   "metadata": {},
   "outputs": [
    {
     "name": "stdout",
     "output_type": "stream",
     "text": [
      "['apple', 'banana', 'mango']\n"
     ]
    }
   ],
   "source": [
    "# removing an  item from the list\n",
    "my_list = [\"apple\", 'banana', 'mango']\n",
    "print(my_list)"
   ]
  },
  {
   "cell_type": "code",
   "execution_count": 17,
   "id": "affa8b09-33bc-483a-a9ee-21baecf67270",
   "metadata": {},
   "outputs": [
    {
     "name": "stdout",
     "output_type": "stream",
     "text": [
      "['apple', 'banana']\n"
     ]
    }
   ],
   "source": [
    "my_list.remove('mango')\n",
    "print(my_list)"
   ]
  },
  {
   "cell_type": "markdown",
   "id": "2bb292ce-3df3-4814-abbc-9884ec4e9cbf",
   "metadata": {},
   "source": [
    "## Allows duplicate\n",
    "Since the lists are indexed, lists can have items with the same value"
   ]
  },
  {
   "cell_type": "code",
   "execution_count": 18,
   "id": "9659c2a4-af07-41dc-bbe9-4f8ba0cb982a",
   "metadata": {},
   "outputs": [
    {
     "name": "stdout",
     "output_type": "stream",
     "text": [
      "['apple', 'banana', 'mango', 'apple']\n"
     ]
    }
   ],
   "source": [
    "# adding an duplicate items to the list\n",
    "my_list = [\"apple\", 'banana', 'mango', 'apple']\n",
    "print(my_list)"
   ]
  },
  {
   "cell_type": "markdown",
   "id": "2bd51108-36d9-4e10-b6d5-c2886011da04",
   "metadata": {},
   "source": [
    "## List Lenght\n",
    "\n",
    "**len()** function is used to determine the number of items in a list"
   ]
  },
  {
   "cell_type": "code",
   "execution_count": 19,
   "id": "9a636204-0d81-456f-a64c-d855bede4e36",
   "metadata": {},
   "outputs": [
    {
     "name": "stdout",
     "output_type": "stream",
     "text": [
      "4\n"
     ]
    }
   ],
   "source": [
    "this_list = ['apple', 'mango', 'banana', 'papaya']\n",
    "print(len(this_list))"
   ]
  },
  {
   "cell_type": "markdown",
   "id": "c5addd6d-6dfc-4d14-8062-e7ed7ae1f7fa",
   "metadata": {},
   "source": [
    "## Data types of the list items\n",
    "List items can be of any data type and a single list can have multiple data type"
   ]
  },
  {
   "cell_type": "code",
   "execution_count": 21,
   "id": "2a8525b2-955f-4ee9-b657-66f5209760c0",
   "metadata": {},
   "outputs": [],
   "source": [
    "list1 = ['apple', 'banana', 'cherry']\n",
    "list2 = [1,2,3]\n",
    "list3 = [True, False, True]\n",
    "list4 = ['apple', 2, True]"
   ]
  },
  {
   "cell_type": "code",
   "execution_count": 23,
   "id": "dc992d53-35ed-4a6b-b790-21de16525445",
   "metadata": {},
   "outputs": [
    {
     "name": "stdout",
     "output_type": "stream",
     "text": [
      "['apple', 'banana', 'cherry'] [1, 2, 3] [True, False, True] ['apple', 2, True]\n"
     ]
    }
   ],
   "source": [
    "print(list1, list2, list3, list4)"
   ]
  },
  {
   "cell_type": "markdown",
   "id": "6a1c6eaa-6fc2-46bf-b01b-5fc5d37545e4",
   "metadata": {},
   "source": [
    "## The list() Constructor\n",
    "it is possible to use the list() constructor when creating a new list"
   ]
  },
  {
   "cell_type": "code",
   "execution_count": 25,
   "id": "54840bab-d31e-482a-bafa-584c23d5e5dc",
   "metadata": {},
   "outputs": [],
   "source": [
    "thislist = list(('apple','banana','orange','cherry'))"
   ]
  },
  {
   "cell_type": "code",
   "execution_count": 27,
   "id": "6c646448-26e0-4c53-b7c1-0e28db4da8fe",
   "metadata": {},
   "outputs": [
    {
     "name": "stdout",
     "output_type": "stream",
     "text": [
      "['apple', 'banana', 'orange', 'cherry']\n"
     ]
    }
   ],
   "source": [
    "print(thislist)"
   ]
  },
  {
   "cell_type": "markdown",
   "id": "961a8e04-7d28-4a94-bc5f-e370ab1c533f",
   "metadata": {},
   "source": [
    "# Access List Items\n",
    "- List items are indexed\n",
    "- List items can be accessed by referring to the index number"
   ]
  },
  {
   "cell_type": "code",
   "execution_count": 2,
   "id": "fb514d3a-b901-4858-8fe5-06334f0a02b3",
   "metadata": {},
   "outputs": [
    {
     "name": "stdout",
     "output_type": "stream",
     "text": [
      "banana\n"
     ]
    }
   ],
   "source": [
    "#print 2nd item in the list(list index starts from 0)\n",
    "\n",
    "list1 = ['apple', 'banana', 'cherry']\n",
    "print(list1[1])"
   ]
  },
  {
   "cell_type": "markdown",
   "id": "bb1b2334-5766-4a49-b81e-8d8d06d645c3",
   "metadata": {},
   "source": [
    "## Negative Indexing\n",
    "Negative Indexing is just starting the index from behind"
   ]
  },
  {
   "cell_type": "code",
   "execution_count": 4,
   "id": "1aecb139-7dc4-472b-9cb0-0bcce75f2110",
   "metadata": {},
   "outputs": [
    {
     "name": "stdout",
     "output_type": "stream",
     "text": [
      "cherry\n"
     ]
    }
   ],
   "source": [
    "# print last item from the list using negative indexing \n",
    "this_list = ['apple', 'banana', 'cherry']\n",
    "print(this_list[-1])"
   ]
  },
  {
   "cell_type": "markdown",
   "id": "f188a3c8-ffcc-4a5c-91ca-c9d1db72f96a",
   "metadata": {},
   "source": [
    "## Range of indexes\n",
    "A range can be specified from where to start and where to end, the value(s) returned will be a new list with specified items."
   ]
  },
  {
   "cell_type": "code",
   "execution_count": 6,
   "id": "6bd4f4c5-1145-4425-bcf0-2d9f45814709",
   "metadata": {},
   "outputs": [
    {
     "name": "stdout",
     "output_type": "stream",
     "text": [
      "['cherry', 'orange', 'melon']\n"
     ]
    }
   ],
   "source": [
    "#return the 3rd, 4th & 5th item\n",
    "this_list = ['apple', 'banana', 'cherry', 'orange', 'melon', 'kiwi']\n",
    "print(this_list[2:5])  # note: the search will start at index 2(included) and end at index 5 (excluded) 1st item has end index 0"
   ]
  },
  {
   "cell_type": "markdown",
   "id": "5e62c3ff-7362-462e-9d80-a5b5fc2e4bec",
   "metadata": {},
   "source": [
    "### By leaving out the start value the range will start at the first item"
   ]
  },
  {
   "cell_type": "code",
   "execution_count": 9,
   "id": "330eab01-6c2c-4696-803e-b15cfdf2025d",
   "metadata": {},
   "outputs": [
    {
     "name": "stdout",
     "output_type": "stream",
     "text": [
      "['apple', 'banana', 'cherry', 'orange']\n"
     ]
    }
   ],
   "source": [
    "# Return the items from the list, starting from the beginning to, but not including \"kiwi\"\n",
    "this_list = ['apple','banana', 'cherry', 'orange', 'kiwi', 'melon', 'mango' ]\n",
    "print(this_list[:4])"
   ]
  },
  {
   "cell_type": "markdown",
   "id": "e8b1d3a0-c63a-4659-ae5c-a71b2451eeaf",
   "metadata": {},
   "source": [
    "## Range of Negative Index"
   ]
  },
  {
   "cell_type": "code",
   "execution_count": 13,
   "id": "fc64b415-c035-42ea-9955-b39d24d0d3d8",
   "metadata": {},
   "outputs": [
    {
     "name": "stdout",
     "output_type": "stream",
     "text": [
      "['orange', 'kiwi', 'melon']\n"
     ]
    }
   ],
   "source": [
    "# retrun the the item 'orange' (-4) to, but not including 'mango' (-1)\n",
    "this_list = ['apple','banana', 'cherry', 'orange', 'kiwi', 'melon', 'mango' ]\n",
    "print(this_list[-4:-1])"
   ]
  },
  {
   "cell_type": "markdown",
   "id": "04f3787c-be54-4dba-be98-9b85b8112bae",
   "metadata": {},
   "source": [
    "## Check if Item Exists:"
   ]
  },
  {
   "cell_type": "code",
   "execution_count": 15,
   "id": "ce4dd63c-1a85-46f0-a164-e1ccd52030e9",
   "metadata": {},
   "outputs": [
    {
     "name": "stdout",
     "output_type": "stream",
     "text": [
      "yes, apple is in the fruits list\n"
     ]
    }
   ],
   "source": [
    "this_list = ['apple','banana', 'cherry', 'orange', 'kiwi', 'melon', 'mango' ]\n",
    "if 'apple' in this_list:\n",
    "    print('yes, apple is in the fruits list')"
   ]
  },
  {
   "cell_type": "markdown",
   "id": "7caf8aa7-d514-41f7-ac1a-5ef9974f07eb",
   "metadata": {},
   "source": [
    "## Change Item Values\n",
    "we can change the value of a specefic item by refering to the index number"
   ]
  },
  {
   "cell_type": "code",
   "execution_count": 16,
   "id": "26b4230d-3215-4b61-bad2-42f735ac5bde",
   "metadata": {},
   "outputs": [
    {
     "name": "stdout",
     "output_type": "stream",
     "text": [
      "['apple', 'black currant', 'cherry']\n"
     ]
    }
   ],
   "source": [
    "this_list = ['apple','banana', 'cherry'] \n",
    "this_list[1] = 'black currant'\n",
    "print(this_list)"
   ]
  },
  {
   "cell_type": "markdown",
   "id": "f9abf07d-c9ef-40bc-883c-fdd43815835d",
   "metadata": {},
   "source": [
    "## changing a range of item values \n",
    "to change the values of items with a specefic range\n",
    "- define a list with new values\n",
    "- refer to the range of index numbers where you want to insert the new values"
   ]
  },
  {
   "cell_type": "code",
   "execution_count": 23,
   "id": "0d431eac-7540-4df3-83b8-800d6c3a5ce2",
   "metadata": {},
   "outputs": [
    {
     "name": "stdout",
     "output_type": "stream",
     "text": [
      "['apple', 'black currant', 'watermelon', 'orange', 'kiwi', 'melon', 'mango']\n"
     ]
    }
   ],
   "source": [
    "#change the values 'banana' & 'cherry' to the values 'black currant' and 'water melon'\n",
    "this_list = ['apple','banana', 'cherry', 'orange', 'kiwi', 'melon', 'mango' ]\n",
    "this_list[1:3] = 'black currant','watermelon'\n",
    "print(this_list)"
   ]
  },
  {
   "cell_type": "code",
   "execution_count": 33,
   "id": "ccb87195-ea8d-4b66-8a91-bd6565667e71",
   "metadata": {},
   "outputs": [],
   "source": [
    "## Note: If you insert more items than you replace, the new items will be inserted where you specified, and the remaining items will move accordingly:"
   ]
  },
  {
   "cell_type": "code",
   "execution_count": 32,
   "id": "3ede68c3-3923-45a8-9ad5-ffcccbf48539",
   "metadata": {},
   "outputs": [
    {
     "name": "stdout",
     "output_type": "stream",
     "text": [
      "['apple', 'black currant', 'orange', 'pineapple', 'cherry']\n"
     ]
    }
   ],
   "source": [
    "# Change the 2nd value by replacing it with two new values\n",
    "this_list = ['apple', 'banana', 'cherry']\n",
    "this_list[1:2] = ('black currant', 'orange','pineapple')\n",
    "print(this_list)"
   ]
  },
  {
   "cell_type": "code",
   "execution_count": 34,
   "id": "8208863e-f245-494e-be19-c364447fab1d",
   "metadata": {},
   "outputs": [],
   "source": [
    "##If you insert more items than you replace, the new items will be inserted where you specified, and the remaining items will move accordingly:"
   ]
  },
  {
   "cell_type": "code",
   "execution_count": 36,
   "id": "46976813-ff30-472b-9a33-38d422e662d3",
   "metadata": {},
   "outputs": [
    {
     "name": "stdout",
     "output_type": "stream",
     "text": [
      "['apple', 'watermelon']\n"
     ]
    }
   ],
   "source": [
    "thislist = ['apple', 'banana','cherry']\n",
    "thislist[1:3] = ['watermelon']\n",
    "print(thislist)"
   ]
  },
  {
   "cell_type": "markdown",
   "id": "90dda70a-e475-40f5-bfcb-ffc44522b555",
   "metadata": {},
   "source": [
    "## Insert Items\n",
    "To insert a new item, without replacing any of the existing values, we can use the insert() method\n",
    "- the 'insert()' method inserts the item at a specified index-"
   ]
  },
  {
   "cell_type": "code",
   "execution_count": 38,
   "id": "b8f8013d-c8cb-4cfb-81f9-4ec46803883a",
   "metadata": {},
   "outputs": [
    {
     "name": "stdout",
     "output_type": "stream",
     "text": [
      "['apple', 'banana', 'watermelon', 'cherry']\n"
     ]
    }
   ],
   "source": [
    "# insert 'watermelon' as the third item\n",
    "thislist = ['apple', 'banana', 'cherry']\n",
    "thislist.insert(2, 'watermelon')\n",
    "print(thislist)"
   ]
  },
  {
   "cell_type": "code",
   "execution_count": null,
   "id": "71239b64-a171-4373-b031-98726f43ece7",
   "metadata": {},
   "outputs": [],
   "source": []
  }
 ],
 "metadata": {
  "kernelspec": {
   "display_name": "Python 3 (ipykernel)",
   "language": "python",
   "name": "python3"
  },
  "language_info": {
   "codemirror_mode": {
    "name": "ipython",
    "version": 3
   },
   "file_extension": ".py",
   "mimetype": "text/x-python",
   "name": "python",
   "nbconvert_exporter": "python",
   "pygments_lexer": "ipython3",
   "version": "3.11.4"
  }
 },
 "nbformat": 4,
 "nbformat_minor": 5
}
